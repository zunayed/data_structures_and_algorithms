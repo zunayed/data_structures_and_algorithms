{
 "metadata": {
  "name": "",
  "signature": "sha256:7c91df9f51873793da9144fd6372e996a11ae7c988b79d2a54b995c822cae6ae"
 },
 "nbformat": 3,
 "nbformat_minor": 0,
 "worksheets": [
  {
   "cells": [
    {
     "cell_type": "markdown",
     "metadata": {},
     "source": [
      "## #1 Array traversal problem\n",
      "I have an array stockPricesYesterday where:\n",
      "The indices are the time, as a number of minutes past trade opening time, which was 9:30am local time.\n",
      "The values are the price of Apple stock at that time, in dollars.\n",
      "For example, the stock cost $500 at 10:30am, so `stockPricesYesterday[60] = 500`.\n",
      "\n",
      "Write an efficient algorithm for computing the best profit I could have made from 1 purchase and 1 sale of 1 Apple stock yesterday.  \n",
      "\n",
      "For this problem, we won't allow \"shorting\"\u2014you must buy before you sell."
     ]
    },
    {
     "cell_type": "code",
     "collapsed": false,
     "input": [
      "def max_profit(price):\n",
      "    max_price = 0\n",
      "    min_price = price[0]\n",
      "    profit = 0\n",
      "\n",
      "    for item in price:\n",
      "        if item > max_price:\n",
      "            max_price = item\n",
      "        if item < min_price:\n",
      "            min_price = item\n",
      "\n",
      "        profit = max_price - min_price\n",
      "\n",
      "    return profit"
     ],
     "language": "python",
     "metadata": {},
     "outputs": [],
     "prompt_number": 14
    },
    {
     "cell_type": "code",
     "collapsed": false,
     "input": [
      "max_profit([450, 500, 501, 490, 491, 500, 600, 590])"
     ],
     "language": "python",
     "metadata": {},
     "outputs": [
      {
       "metadata": {},
       "output_type": "pyout",
       "prompt_number": 16,
       "text": [
        "150"
       ]
      }
     ],
     "prompt_number": 16
    },
    {
     "cell_type": "markdown",
     "metadata": {},
     "source": [
      "## #2 Product of other numbers\n",
      "Write a function get_products_of_all_ints_except_at_index() that takes an array of integers and returns an array of the products.\n",
      "For example, given:\n",
      "    \n",
      "    [1, 7, 3, 4]\n",
      "  \n",
      "your function would return:\n",
      "\n",
      "    [84, 12, 28, 21]\n",
      "  \n",
      "by calculating:\n",
      "\n",
      "    [7*3*4, 1*3*4, 1*7*4, 1*7*3]\n",
      "  \n",
      "Do not use division in your solution."
     ]
    },
    {
     "cell_type": "markdown",
     "metadata": {},
     "source": [
      "### Bruce Force method \n",
      "$o(n^2)$ runtime"
     ]
    },
    {
     "cell_type": "code",
     "collapsed": false,
     "input": [
      "import operator\n",
      "import functools\n",
      "\n",
      "\n",
      "def get_products_of_all_ints_except_at_index(array):\n",
      "    products = []\n",
      "    for x in xrange(len(array)):\n",
      "        new_array = array[x + 1:] + array[:x]\n",
      "        products.append(functools.reduce(operator.mul, new_array, 1))\n",
      "    \n",
      "    print products\n",
      "    return products\n"
     ],
     "language": "python",
     "metadata": {},
     "outputs": [],
     "prompt_number": 64
    },
    {
     "cell_type": "code",
     "collapsed": false,
     "input": [
      "assert get_products_of_all_ints_except_at_index([1, 7, 3, 4]) == [84, 12, 28, 21]\n",
      "assert get_products_of_all_ints_except_at_index([1, 7, 3, 4, 0]) == [0, 0, 0, 0, 84]"
     ],
     "language": "python",
     "metadata": {},
     "outputs": [
      {
       "output_type": "stream",
       "stream": "stdout",
       "text": [
        "[84, 12, 28, 21]\n",
        "[0, 0, 0, 0, 84]\n"
       ]
      }
     ],
     "prompt_number": 65
    },
    {
     "cell_type": "markdown",
     "metadata": {},
     "source": [
      "#### Another example \n",
      "[1, 2, 6, 5, 9]\n",
      "\n",
      "[2*6*5*9, 1*6*5*9, 1*2*5*9, 1*2*6*9, 1*2*6*5]\n",
      "\n",
      "#### Notice how all there are shared multiplcations across the last 4 elements\n",
      "\n",
      "Let's just get the product of all the integers before each index. \n",
      "\n",
      "input array\n",
      "[3, 1, 2, 5, 6, 4]\n",
      "\n",
      "multiplication of all intetegers before each index\n",
      "(we give index 0 a value of 1 since it has no integers before it)\n",
      "[1, 3, 3*1, 3*1*2, 3*1*2*5, 3*1*2*5*6]\n",
      "\n",
      "final array of the products of all the integers before each index\n",
      "[1, 3, 3, 6, 30, 180]"
     ]
    },
    {
     "cell_type": "code",
     "collapsed": false,
     "input": [
      "  def get_products_of_all_ints_except_at_index(int_array):\n",
      "\n",
      "    # we make an array with the length of the input array to\n",
      "    # hold our products\n",
      "    products_of_all_ints_except_at_index = [1] * len(int_array)\n",
      "    \n",
      "    # for each integer, we find the product of all the integers\n",
      "    # before it, storing the total product so far each time\n",
      "    product = 1\n",
      "    i = 0\n",
      "    while i < len(int_array):\n",
      "        products_of_all_ints_except_at_index[i] = product\n",
      "        product *= int_array[i]\n",
      "        i += 1\n",
      "    \n",
      "    # for each integer, we find the product of all the integers\n",
      "    # after it. since each index in products already has the\n",
      "    # product of all the integers before it, now we're storing\n",
      "    # the total product of all other integers\n",
      "    product = 1\n",
      "    i = len(int_array) - 1\n",
      "    while i >= 0:\n",
      "        products_of_all_ints_except_at_index[i] *= product\n",
      "        product *= int_array[i]\n",
      "        i -= 1\n",
      "\n",
      "    return products_of_all_ints_except_at_index"
     ],
     "language": "python",
     "metadata": {},
     "outputs": [],
     "prompt_number": 69
    },
    {
     "cell_type": "code",
     "collapsed": false,
     "input": [],
     "language": "python",
     "metadata": {},
     "outputs": []
    }
   ],
   "metadata": {}
  }
 ]
}