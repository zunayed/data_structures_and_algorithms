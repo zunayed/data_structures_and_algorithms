{
 "cells": [
  {
   "cell_type": "markdown",
   "metadata": {},
   "source": [
    "# Table Of Contents\n",
    "\n",
    "[#1 Array traversal problem](#problem1)  \n",
    "[#2 Products of other numbers](#problem2)  \n",
    "[#3 Highest product of 3](#problem3)  \n",
    "[#4 Rectangular intersection](#problem4)  \n",
    "[#5 Merge sorted arrays](#problem5)  \n",
    "[#6 Rectangular love](#problem6)  \n",
    "[#7 Temperature tracker](#problem7)  \n",
    "[#12 Find in Ordered Set](#problem12)  \n"
   ]
  },
  {
   "cell_type": "markdown",
   "metadata": {},
   "source": [
    "<a id=\"problem1\"></a>\n",
    "## #1 Array traversal problem\n",
    "I have an array stockPricesYesterday where:\n",
    "The indices are the time, as a number of minutes past trade opening time, which was 9:30am local time.\n",
    "The values are the price of Apple stock at that time, in dollars.\n",
    "For example, the stock cost $500 at 10:30am, so `stockPricesYesterday[60] = 500`.\n",
    "\n",
    "Write an efficient algorithm for computing the best profit I could have made from 1 purchase and 1 sale of 1 Apple stock yesterday.  \n",
    "\n",
    "For this problem, we won't allow \"shorting\"—you must buy before you sell."
   ]
  },
  {
   "cell_type": "code",
   "execution_count": 5,
   "metadata": {
    "collapsed": false
   },
   "outputs": [
    {
     "data": {
      "text/plain": [
       "150"
      ]
     },
     "execution_count": 5,
     "metadata": {},
     "output_type": "execute_result"
    }
   ],
   "source": [
    "def max_profit(price):\n",
    "    max_price = 0\n",
    "    min_price = price[0]\n",
    "    profit = 0\n",
    "\n",
    "    for item in price:\n",
    "        if item > max_price:\n",
    "            max_price = item\n",
    "        if item < min_price:\n",
    "            min_price = item\n",
    "\n",
    "        profit = max_price - min_price\n",
    "\n",
    "    return profit\n",
    "\n",
    "max_profit([450, 500, 501, 490, 491, 500, 600, 590])"
   ]
  },
  {
   "cell_type": "markdown",
   "metadata": {},
   "source": [
    "<a id=\"problem2\"></a>\n",
    "## #2 Product of other numbers\n",
    "Write a function get_products_of_all_ints_except_at_index() that takes an array of integers and returns an array of the products.\n",
    "For example, given:\n",
    "    \n",
    "    [1, 7, 3, 4]\n",
    "  \n",
    "your function would return:\n",
    "\n",
    "    [84, 12, 28, 21]\n",
    "  \n",
    "by calculating:\n",
    "\n",
    "    [7*3*4, 1*3*4, 1*7*4, 1*7*3]\n",
    "  \n",
    "Do not use division in your solution."
   ]
  },
  {
   "cell_type": "markdown",
   "metadata": {},
   "source": [
    "#### Bruce Force method \n",
    "$o(n^2)$ runtime"
   ]
  },
  {
   "cell_type": "code",
   "execution_count": 2,
   "metadata": {
    "collapsed": false
   },
   "outputs": [
    {
     "name": "stdout",
     "output_type": "stream",
     "text": [
      "[84, 12, 28, 21]\n",
      "[0, 0, 0, 0, 84]\n"
     ]
    }
   ],
   "source": [
    "import operator\n",
    "import functools\n",
    "\n",
    "\n",
    "def get_products_of_all_ints_except_at_index(array):\n",
    "    products = []\n",
    "    for x in xrange(len(array)):\n",
    "        new_array = array[x + 1:] + array[:x]\n",
    "        products.append(functools.reduce(operator.mul, new_array, 1))\n",
    "    \n",
    "    print products\n",
    "    return products\n",
    "\n",
    "\n",
    "assert get_products_of_all_ints_except_at_index([1, 7, 3, 4]) == [84, 12, 28, 21]\n",
    "assert get_products_of_all_ints_except_at_index([1, 7, 3, 4, 0]) == [0, 0, 0, 0, 84]"
   ]
  },
  {
   "cell_type": "markdown",
   "metadata": {},
   "source": [
    "#### $O(n)$ solution\n",
    "To find the products of all the integers except the integer at each index, we'll go through our array greedily twice. First we get the products of all the integers before each index, and then we go backwards to get the products of all the integers after each index.\n",
    "\n",
    "When we multiply all the products before and after each index, we get our answer—the products of all the integers except the integer at each index"
   ]
  },
  {
   "cell_type": "code",
   "execution_count": 8,
   "metadata": {
    "collapsed": false
   },
   "outputs": [],
   "source": [
    "  def get_products_of_all_ints_except_at_index_2(int_array):\n",
    "\n",
    "    # we make an array with the length of the input array to\n",
    "    # hold our products\n",
    "    products_of_all_ints_except_at_index = [1] * len(int_array)\n",
    "    \n",
    "    # for each integer, we find the product of all the integers\n",
    "    # before it, storing the total product so far each time\n",
    "    product = 1\n",
    "    i = 0\n",
    "    while i < len(int_array):\n",
    "        products_of_all_ints_except_at_index[i] = product\n",
    "        product *= int_array[i]\n",
    "        i += 1\n",
    "    \n",
    "    # for each integer, we find the product of all the integers\n",
    "    # after it. since each index in products already has the\n",
    "    # product of all the integers before it, now we're storing\n",
    "    # the total product of all other integers\n",
    "    product = 1\n",
    "    i = len(int_array) - 1\n",
    "    while i >= 0:\n",
    "        products_of_all_ints_except_at_index[i] *= product\n",
    "        product *= int_array[i]\n",
    "        i -= 1\n",
    "\n",
    "    return products_of_all_ints_except_at_index\n",
    "\n",
    "\n",
    "assert get_products_of_all_ints_except_at_index_2([1, 7, 3, 4]) == [84, 12, 28, 21]\n",
    "assert get_products_of_all_ints_except_at_index_2([1, 7, 3, 4, 0]) == [0, 0, 0, 0, 84]"
   ]
  },
  {
   "cell_type": "markdown",
   "metadata": {},
   "source": [
    "<a id=\"problem3\"></a>\n",
    "## #3 Highest product of 3\n",
    "Given an array_of_ints, find the highest_product you can get from three of the integers.\n",
    "The input array_of_ints will always have at least three integers."
   ]
  },
  {
   "cell_type": "code",
   "execution_count": 4,
   "metadata": {
    "collapsed": false
   },
   "outputs": [
    {
     "name": "stdout",
     "output_type": "stream",
     "text": [
      "120\n",
      "300\n"
     ]
    }
   ],
   "source": [
    "import operator\n",
    "import functools\n",
    "\n",
    "\n",
    "def highest_product(array):\n",
    "    highest = max(array[0], array[1])\n",
    "    lowest = min(array[0], array[1])\n",
    "    highest_product_of_3 = array[0] * array[1] * array[2]\n",
    "    highest_product_of_2 = array[0] * array[1]\n",
    "    lowest_product_of_2 = array[0] * array[1]\n",
    "\n",
    "    \n",
    "    for current_num in array[2:]:\n",
    "        highest = max(current_num, highest)        \n",
    "        lowest = min(current_num, lowest)\n",
    "\n",
    "        highest_product_of_2 = max(\n",
    "            current_num * highest,\n",
    "            current_num * lowest,\n",
    "            highest_product_of_2,\n",
    "        )\n",
    "        \n",
    "        lowest_product_of_2 = min(\n",
    "            current_num * highest,\n",
    "            current_num * lowest,\n",
    "            lowest_product_of_2\n",
    "        )\n",
    "        \n",
    "        highest_product_of_3 = max(\n",
    "            current_num * highest_product_of_2,\n",
    "            current_num * lowest_product_of_2,\n",
    "            highest_product_of_3\n",
    "        )\n",
    "        \n",
    "    print highest_product_of_3\n",
    "    return highest_product_of_3\n",
    "\n",
    "\n",
    "assert highest_product([6, 5, 3, 1, 2, 4]) == 120\n",
    "assert highest_product([-10, -10, 1, 3, 2]) == 300"
   ]
  },
  {
   "cell_type": "markdown",
   "metadata": {},
   "source": [
    "<a id=\"problem4\"></a>\n",
    "## #4 Rectangular intersection\n",
    "\n",
    "They need help writing an algorithm to find the intersection of two users' love rectangles. They suspect finding that intersection is the key to a matching algorithm so powerful it will cause an immediate acquisition by Google or Facebook or Obama or something.\n",
    "It must\n",
    "be love\n",
    "Write a function to find the rectangular intersection of two given love rectangles.\n",
    "Love rectangles are defined as hash maps like this:\n",
    "\n",
    "```python\n",
    "my_rectangle = {\n",
    "\n",
    "    # coordinates of bottom-left corner:\n",
    "    'x': 1, \n",
    "    'y': 5, \n",
    "\n",
    "    # width and height\n",
    "    'width': 10,\n",
    "    'height': 4,\n",
    "\n",
    "}\n",
    "```\n",
    "Your output rectangle should use this format as well.\n"
   ]
  },
  {
   "cell_type": "code",
   "execution_count": 1,
   "metadata": {
    "collapsed": false
   },
   "outputs": [
    {
     "name": "stdout",
     "output_type": "stream",
     "text": [
      "(2, 4)\n"
     ]
    }
   ],
   "source": [
    "# solve finding x overlap\n",
    "\"\"\"\n",
    "w/overlap\n",
    "------------------\n",
    "                 ^\n",
    "             low_point    \n",
    "       -----------------------\n",
    "       ^\n",
    "     high_point  \n",
    "     \n",
    "\n",
    "no overlap\n",
    "------------------\n",
    "                 ^\n",
    "             low_point    \n",
    "                  ------------\n",
    "                  ^\n",
    "              high_point \n",
    "\n",
    "another example\n",
    "         -----------------\n",
    "         ^\n",
    "     high_point \n",
    "-------------\n",
    "            ^\n",
    "        low_point\n",
    "\"\"\"\n",
    "def find_overlap(point1, length1, point2, length2):\n",
    "    \n",
    "    # get higher of the two points\n",
    "    high_point = max(point1, point2)\n",
    "    low_point = min(point1 + length1, point2 + length2)\n",
    "    \n",
    "    if high_point >= low_point:\n",
    "        return (None, None)\n",
    "    \n",
    "\n",
    "    overlap_length = low_point - high_point\n",
    "    print (high_point, overlap_length)\n",
    "    return (high_point, overlap_length)\n",
    "    \n",
    "\n",
    "\"\"\"\n",
    "0123456789\n",
    "----------\n",
    " *****\n",
    "  ****\n",
    "\"\"\"\n",
    "assert find_overlap(1, 5, 2, 4) == (2, 4)\n",
    "assert find_overlap(1, 5, 6, 4) == (None, None)"
   ]
  },
  {
   "cell_type": "markdown",
   "metadata": {},
   "source": [
    "<a id=\"problem5\"></a>\n",
    "## #5 Merge sorted arrays\n",
    "\n",
    "Each order is represented by an \"order id\" (an integer).\n",
    "We have our lists of orders sorted numerically already, in arrays. Write a function to merge our arrays of orders into one sorted array.\n",
    "For example:\n",
    "```python\n",
    "my_array     = [3,4,6,10,11,15]\n",
    "alices_array = [1,5,8,12,14,19]\n",
    "\n",
    "print merge_arrays(my_array, alices_array)\n",
    "# prints [1,3,4,5,6,8,10,11,12,14,15,19]\n",
    "```\n",
    "\n"
   ]
  },
  {
   "cell_type": "code",
   "execution_count": 2,
   "metadata": {
    "collapsed": false
   },
   "outputs": [],
   "source": [
    "\"\"\"\n",
    "arr1         = [3,  4,  6, 10, 11, 15]\n",
    "arr2         = [1,  5,  8, 12, 14, 19]\n",
    "merged_array = [1,  x,  x,  x,  x,  x]\n",
    "\n",
    "Pick the lowest of the two and then remove the element\n",
    "\n",
    "arr1         = [3,  4,  6, 10, 11, 15]\n",
    "arr2         = [5,  8, 12, 14, 19]\n",
    "merged_array = [1,  x,  x,  x,  x,  x]\n",
    "\"\"\"\n",
    "\n",
    "def merge_sorted_arrays(arr1, arr2):\n",
    "    merged_array = []\n",
    "    merged_len = len(arr1) + len(arr2)\n",
    "    index = 0\n",
    "    \n",
    "    while index < merged_len:\n",
    "        if len(arr2) == 0:\n",
    "            merged_array.extend(arr1)\n",
    "            return merged_array\n",
    "        \n",
    "        if len(arr1) == 0:\n",
    "            merged_array.extend(arr2)\n",
    "            return merged_array\n",
    "        \n",
    "        # cases: comparing elements\n",
    "        if arr1[0] < arr2[0]:\n",
    "            merged_array.append(arr1.pop(0))\n",
    "        else:\n",
    "            merged_array.append(arr2.pop(0))\n",
    "\n",
    "        index += 1\n",
    "\n",
    "    return merged_array\n",
    "    \n",
    "a = [1, 6, 9, 11, 15]\n",
    "b = [5, 7, 13, 14, 16]\n",
    "\n",
    "assert merge_sorted_arrays(a, b) == [1, 5, 6, 7, 9, 11, 13, 14, 15, 16]\n",
    "assert merge_sorted_arrays([], [2, 3, 4]) == [2, 3, 4]\n",
    "assert merge_sorted_arrays([5], [2, 3, 4]) == [2, 3, 4, 5]"
   ]
  },
  {
   "cell_type": "markdown",
   "metadata": {
    "collapsed": false
   },
   "source": [
    "<a id=\"problem6\"></a>\n",
    "## #6 Rectangular-love\n",
    "\n",
    "They need help writing an algorithm to find the intersection of two users' love rectangles. The rectangles are represented by hashmaps \n",
    "\n",
    "```python\n",
    "my_rectangle = {\n",
    "    # coordinates of bottom-left corner:\n",
    "    'x': 1, \n",
    "    'y': 5, \n",
    "\n",
    "    # width and height\n",
    "    'width': 10,\n",
    "    'height': 4,\n",
    "}\n",
    "```"
   ]
  },
  {
   "cell_type": "code",
   "execution_count": 11,
   "metadata": {
    "collapsed": false
   },
   "outputs": [],
   "source": [
    "def find_rect_intersection(r1, r2):\n",
    "    if r1['x'] == r2['x'] \\\n",
    "        and r1['y'] == r2['y'] \\\n",
    "        and r1['height'] == r2['height'] \\\n",
    "        and r1['width'] == r2['width']:\n",
    "            return r1\n",
    "    \n",
    "    x_size = overlap_x(r1, r2)\n",
    "    y_size = overlap_y(r1, r2)\n",
    "    \n",
    "    if x_size > 0 and y_size > 0:\n",
    "        rect = {\n",
    "            'length': y_size,\n",
    "            'width': x_size\n",
    "        }\n",
    "        if r1['x'] < r2['x']:\n",
    "            rect['x'] = r2['x']\n",
    "            rect['y'] = r2['y']\n",
    "        else:\n",
    "            rect['x'] = r1['x']\n",
    "            rect['y'] = r1['y']\n",
    "\n",
    "        return rect\n",
    "    else:\n",
    "        return \"No overlap\"\n",
    "\n",
    "\n",
    "def overlap_x(r1, r2):\n",
    "    r1_ending_x = r1['x'] + r1['width']\n",
    "    r2_ending_x = r2['x'] + r2['width']\n",
    "    \n",
    "    if r2['x'] > r1['x'] and r2['x'] < r1_ending_x:\n",
    "        return r1_ending_x - r2['x']\n",
    "    \n",
    "    if r1['x'] > r2['x'] and r1['x'] < r2_ending_x:\n",
    "        return r2_ending_x - r1['x']\n",
    "\n",
    "\n",
    "def overlap_y(r1, r2):\n",
    "    r1_ending_y = r1['y'] + r1['height']\n",
    "    r2_ending_y = r2['y'] + r2['height']\n",
    "\n",
    "    if r2['y'] > r1['y'] and r2['y'] < r1_ending_y:\n",
    "        return r1_ending_y - r2['y'] \n",
    "    \n",
    "    if r1['y'] > r2['y'] and r1['y'] < r2_ending_y:\n",
    "        return r2_ending_y - r1['y']\n",
    "    \n",
    "r1 = {\n",
    "    'x': 2, \n",
    "    'y': 1, \n",
    "    'width': 4,\n",
    "    'height': 2,\n",
    "}\n",
    "    \n",
    "r2 = {\n",
    "    'x': 4, \n",
    "    'y': 2, \n",
    "    'width': 3,\n",
    "    'height': 4,\n",
    "}\n",
    "\n",
    "# test overlap functions\n",
    "assert overlap_x(r1, r2) == 2\n",
    "assert overlap_x(r2, r1) == 2\n",
    "assert overlap_y(r1, r2) == 1\n",
    "assert overlap_y(r2, r1) == 1\n",
    "\n",
    "assert find_rect_intersection(r1, r2) == {'x': 4, 'y': 2, 'width': 2, 'length': 1}\n",
    "assert find_rect_intersection(r2, r1) == {'x': 4, 'y': 2, 'width': 2, 'length': 1}\n",
    "\n",
    "# rect overlap completely\n",
    "assert find_rect_intersection(r1, r1) == r1"
   ]
  },
  {
   "cell_type": "markdown",
   "metadata": {
    "collapsed": true
   },
   "source": [
    "<a id=\"problem7\"></a>\n",
    "## #7 temperature-tracker\n",
    "\n",
    "You decide to test if your oddly-mathematical heating company is fulfilling its All-Time Max, Min, Mean and Mode Temperature Guarantee™.\n",
    "Write a class TempTracker with these methods:\n",
    "\n",
    "`insert()`—records a new temperature\n",
    "`get_max()`—returns the highest temp we've seen so far\n",
    "`get_min()`—returns the lowest temp we've seen so far\n",
    "`get_mean()`—returns the mean of all temps we've seen so far\n",
    "`get_mode()`—returns the mode of all temps we've seen so far\n",
    "Optimize for space and time. Favor speeding up the get_ functions over speeding up the `insert()` function.\n",
    "\n",
    "get_mean() should return a float, but the rest of the get_ functions can return integers. Temperatures will all be inserted as integers. We'll record our temperatures in Fahrenheit, so we can assume they'll all be in the range 0..1100..110.\n",
    "\n",
    "If there is more than one mode, return any of the modes."
   ]
  },
  {
   "cell_type": "code",
   "execution_count": 10,
   "metadata": {
    "collapsed": false
   },
   "outputs": [],
   "source": [
    "\n",
    "from collections import defaultdict\n",
    "\n",
    "\n",
    "class TemperatureTracker(object):\n",
    "    \"\"\"Tracks min, max and average temp\"\"\"\n",
    "    def __init__(self):\n",
    "        self.max = None\n",
    "        self.min = None\n",
    "        self.sum = 0\n",
    "        self.val_count = 0\n",
    "        self.max_occurence = 0\n",
    "        self.mode = None\n",
    "        self.temp_dict = defaultdict(int)\n",
    "\n",
    "    def insert(self, val):\n",
    "\n",
    "        if self.max == None or val > self.max:\n",
    "            self.max = val\n",
    "\n",
    "        if self.min == None or val < self.min:\n",
    "            self.min = val\n",
    "\n",
    "        self.sum += val\n",
    "        self.val_count += 1\n",
    "        self.temp_dict[val] += 1\n",
    "\n",
    "        if self.mode == None or self.temp_dict[val] > self.max_occurence:\n",
    "            self.max_occurence = self.temp_dict[val]\n",
    "            self.mode = val\n",
    "\n",
    "    def get_max(self):\n",
    "        return self.max\n",
    "\n",
    "    def get_min(self):\n",
    "        return self.min\n",
    "\n",
    "    def get_avg(self):\n",
    "        return self.sum / float(self.val_count)\n",
    "\n",
    "    def get_mode(self):\n",
    "        return self.mode\n",
    "\n",
    "temp_list = [9, 10, 1, 3, 4, 5, 5, 5]\n",
    "tracker = TemperatureTracker()\n",
    "for val in temp_list:\n",
    "    tracker.insert(val)\n",
    "\n",
    "assert tracker.get_max() == max(temp_list)\n",
    "assert tracker.get_min() == min(temp_list)\n",
    "assert tracker.get_avg() == sum(temp_list) / float(len(temp_list))\n",
    "assert tracker.get_mode() == 5"
   ]
  },
  {
   "cell_type": "markdown",
   "metadata": {
    "collapsed": true
   },
   "source": [
    "<a id=\"problem8\"></a>\n",
    "## #8 Superbalanced tree\n"
   ]
  },
  {
   "cell_type": "code",
   "execution_count": 95,
   "metadata": {
    "collapsed": false
   },
   "outputs": [
    {
     "name": "stdout",
     "output_type": "stream",
     "text": [
      "Bob\n",
      "Bob2\n",
      "Maud\n",
      "Steven\n",
      "Tony\n"
     ]
    }
   ],
   "source": [
    "class BinaryTree(object):\n",
    "    def __init__(self, root_id):\n",
    "        self.left = None\n",
    "        self.right = None\n",
    "        self.root = root_id\n",
    "    \n",
    "    def insert_right(self, new_node):\n",
    "        if self.right == None:\n",
    "            self.right = BinaryTree(new_node)\n",
    "        else:\n",
    "            new_tree = BinaryTree(new_node)\n",
    "            new_tree.right = self.right\n",
    "            self.right = new_tree\n",
    "    \n",
    "    def insert_left(self, new_node):\n",
    "        if self.left == None:\n",
    "            self.left = BinaryTree(new_node)\n",
    "        else:\n",
    "            new_tree = BinaryTree(new_node)\n",
    "            new_tree.left = self.left\n",
    "            self.left = new_tree\n",
    "                               \n",
    "def print_tree(tree):\n",
    "    if tree != None:\n",
    "        print_tree(tree.left)\n",
    "        print(tree.root)\n",
    "        print_tree(tree.right)\n",
    "\n",
    "\n",
    "tree = BinaryTree(\"Maud\")\n",
    "tree.insert_left(\"Bob\")\n",
    "tree.insert_left(\"Bob2\")\n",
    "tree.insert_right(\"Tony\")\n",
    "tree.insert_right(\"Steven\")\n",
    "print_tree(tree)"
   ]
  },
  {
   "cell_type": "markdown",
   "metadata": {},
   "source": [
    "<a id=\"problem12\"></a>\n",
    "## #12 Find in Ordered Set\n",
    "\n",
    "Suppose we had an array of n integers in sorted order. How quickly could we check if a given integer is in the array?"
   ]
  },
  {
   "cell_type": "code",
   "execution_count": 114,
   "metadata": {
    "collapsed": false
   },
   "outputs": [
    {
     "name": "stdout",
     "output_type": "stream",
     "text": [
      "checking left [1, 2, 3, 3, 4]\n",
      "checking left [1, 2]\n",
      "checking right [3, 4]\n",
      "checking right [6, 8, 10, 11, 12]\n",
      "checking left [6, 8]\n",
      "checking right [11, 12]\n"
     ]
    }
   ],
   "source": [
    "def find_in_ordered_set(input_list, num):\n",
    "    if  not input_list:\n",
    "        return False\n",
    "    \n",
    "    midpoint = len(input_list) / 2\n",
    "\n",
    "    if input_list[midpoint] == num:\n",
    "        return True\n",
    "    elif len(input_list) == 2:\n",
    "        if input_list[0] == num:\n",
    "            return True\n",
    "        else:\n",
    "            return False\n",
    "    else:\n",
    "        print \"checking left\", input_list[:midpoint]\n",
    "        left = find_in_ordered_set(input_list[:midpoint], num)\n",
    "        print \"checking right\", input_list[midpoint+1:]\n",
    "        right = find_in_ordered_set(input_list[midpoint+1:], num)\n",
    "        \n",
    "        if left or right:\n",
    "            return True\n",
    "        else:\n",
    "            return False\n",
    "    \n",
    "list = [1, 2, 3, 3, 4, 5, 6, 8, 10, 11, 12]\n",
    "\n",
    "assert find_in_ordered_set(list, 7) == False\n",
    "assert find_in_ordered_set(list, 3) == True\n"
   ]
  },
  {
   "cell_type": "code",
   "execution_count": null,
   "metadata": {
    "collapsed": true
   },
   "outputs": [],
   "source": []
  }
 ],
 "metadata": {
  "kernelspec": {
   "display_name": "Python 2",
   "language": "python",
   "name": "python2"
  },
  "language_info": {
   "codemirror_mode": {
    "name": "ipython",
    "version": 2
   },
   "file_extension": ".py",
   "mimetype": "text/x-python",
   "name": "python",
   "nbconvert_exporter": "python",
   "pygments_lexer": "ipython2",
   "version": "2.7.6"
  }
 },
 "nbformat": 4,
 "nbformat_minor": 0
}
