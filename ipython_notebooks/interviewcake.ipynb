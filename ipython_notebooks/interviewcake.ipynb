{
 "cells": [
  {
   "cell_type": "markdown",
   "metadata": {},
   "source": [
    "# Table Of Contents\n",
    "\n",
    "[#1 Array traversal problem](#problem1)  \n",
    "[#2 Products of other numbers](#problem2)  \n",
    "[#3 Highest product of 3](#problem3)  \n",
    "[#4 Rectangular intersection](#problem4)  \n",
    "[#5 Merge sorted arrays](#problem5)  \n",
    "[#6 Rectangular love](#problem6)  \n",
    "[#7 Temperature tracker](#problem7)  \n",
    "[#8 Superbalanced tree](#problem8)  \n",
    "[#12 Find in Ordered Set](#problem12)  \n",
    "[#13 Find rotation point](#problem13)  \n",
    "[#14 Inflight Entertainment](#problem14)  \n",
    "[#15 Nth Fibionnaci](#problem15)  \n",
    "[#19 Queue two stacks](#problem19)  \n",
    "[#20 Largest Stack](#problem20)  \n"
   ]
  },
  {
   "cell_type": "markdown",
   "metadata": {},
   "source": [
    "<a id=\"problem1\"></a>\n",
    "## #1 Array traversal problem\n",
    "I have an array stockPricesYesterday where:\n",
    "The indices are the time, as a number of minutes past trade opening time, which was 9:30am local time.\n",
    "The values are the price of Apple stock at that time, in dollars.\n",
    "For example, the stock cost $500 at 10:30am, so `stockPricesYesterday[60] = 500`.\n",
    "\n",
    "Write an efficient algorithm for computing the best profit I could have made from 1 purchase and 1 sale of 1 Apple stock yesterday.  \n",
    "\n",
    "For this problem, we won't allow \"shorting\"—you must buy before you sell."
   ]
  },
  {
   "cell_type": "code",
   "execution_count": 5,
   "metadata": {
    "collapsed": false
   },
   "outputs": [
    {
     "data": {
      "text/plain": [
       "150"
      ]
     },
     "execution_count": 5,
     "metadata": {},
     "output_type": "execute_result"
    }
   ],
   "source": [
    "def max_profit(price):\n",
    "    max_price = 0\n",
    "    min_price = price[0]\n",
    "    profit = 0\n",
    "\n",
    "    for item in price:\n",
    "        if item > max_price:\n",
    "            max_price = item\n",
    "        if item < min_price:\n",
    "            min_price = item\n",
    "\n",
    "        profit = max_price - min_price\n",
    "\n",
    "    return profit\n",
    "\n",
    "max_profit([450, 500, 501, 490, 491, 500, 600, 590])"
   ]
  },
  {
   "cell_type": "markdown",
   "metadata": {},
   "source": [
    "<a id=\"problem2\"></a>\n",
    "## #2 Product of other numbers\n",
    "Write a function get_products_of_all_ints_except_at_index() that takes an array of integers and returns an array of the products.\n",
    "For example, given:\n",
    "    \n",
    "    [1, 7, 3, 4]\n",
    "  \n",
    "your function would return:\n",
    "\n",
    "    [84, 12, 28, 21]\n",
    "  \n",
    "by calculating:\n",
    "\n",
    "    [7*3*4, 1*3*4, 1*7*4, 1*7*3]\n",
    "  \n",
    "Do not use division in your solution."
   ]
  },
  {
   "cell_type": "markdown",
   "metadata": {},
   "source": [
    "#### Bruce Force method \n",
    "$o(n^2)$ runtime"
   ]
  },
  {
   "cell_type": "code",
   "execution_count": 2,
   "metadata": {
    "collapsed": false
   },
   "outputs": [
    {
     "name": "stdout",
     "output_type": "stream",
     "text": [
      "[84, 12, 28, 21]\n",
      "[0, 0, 0, 0, 84]\n"
     ]
    }
   ],
   "source": [
    "import operator\n",
    "import functools\n",
    "\n",
    "\n",
    "def get_products_of_all_ints_except_at_index(array):\n",
    "    products = []\n",
    "    for x in xrange(len(array)):\n",
    "        new_array = array[x + 1:] + array[:x]\n",
    "        products.append(functools.reduce(operator.mul, new_array, 1))\n",
    "    \n",
    "    print products\n",
    "    return products\n",
    "\n",
    "\n",
    "assert get_products_of_all_ints_except_at_index([1, 7, 3, 4]) == [84, 12, 28, 21]\n",
    "assert get_products_of_all_ints_except_at_index([1, 7, 3, 4, 0]) == [0, 0, 0, 0, 84]"
   ]
  },
  {
   "cell_type": "markdown",
   "metadata": {},
   "source": [
    "#### $O(n)$ solution\n",
    "To find the products of all the integers except the integer at each index, we'll go through our array greedily twice. First we get the products of all the integers before each index, and then we go backwards to get the products of all the integers after each index.\n",
    "\n",
    "When we multiply all the products before and after each index, we get our answer—the products of all the integers except the integer at each index"
   ]
  },
  {
   "cell_type": "code",
   "execution_count": 8,
   "metadata": {
    "collapsed": false
   },
   "outputs": [],
   "source": [
    "  def get_products_of_all_ints_except_at_index_2(int_array):\n",
    "\n",
    "    # we make an array with the length of the input array to\n",
    "    # hold our products\n",
    "    products_of_all_ints_except_at_index = [1] * len(int_array)\n",
    "    \n",
    "    # for each integer, we find the product of all the integers\n",
    "    # before it, storing the total product so far each time\n",
    "    product = 1\n",
    "    i = 0\n",
    "    while i < len(int_array):\n",
    "        products_of_all_ints_except_at_index[i] = product\n",
    "        product *= int_array[i]\n",
    "        i += 1\n",
    "    \n",
    "    # for each integer, we find the product of all the integers\n",
    "    # after it. since each index in products already has the\n",
    "    # product of all the integers before it, now we're storing\n",
    "    # the total product of all other integers\n",
    "    product = 1\n",
    "    i = len(int_array) - 1\n",
    "    while i >= 0:\n",
    "        products_of_all_ints_except_at_index[i] *= product\n",
    "        product *= int_array[i]\n",
    "        i -= 1\n",
    "\n",
    "    return products_of_all_ints_except_at_index\n",
    "\n",
    "\n",
    "assert get_products_of_all_ints_except_at_index_2([1, 7, 3, 4]) == [84, 12, 28, 21]\n",
    "assert get_products_of_all_ints_except_at_index_2([1, 7, 3, 4, 0]) == [0, 0, 0, 0, 84]"
   ]
  },
  {
   "cell_type": "markdown",
   "metadata": {},
   "source": [
    "<a id=\"problem3\"></a>\n",
    "## #3 Highest product of 3\n",
    "Given an array_of_ints, find the highest_product you can get from three of the integers.\n",
    "The input array_of_ints will always have at least three integers."
   ]
  },
  {
   "cell_type": "code",
   "execution_count": 4,
   "metadata": {
    "collapsed": false
   },
   "outputs": [
    {
     "name": "stdout",
     "output_type": "stream",
     "text": [
      "120\n",
      "300\n"
     ]
    }
   ],
   "source": [
    "import operator\n",
    "import functools\n",
    "\n",
    "\n",
    "def highest_product(array):\n",
    "    highest = max(array[0], array[1])\n",
    "    lowest = min(array[0], array[1])\n",
    "    highest_product_of_3 = array[0] * array[1] * array[2]\n",
    "    highest_product_of_2 = array[0] * array[1]\n",
    "    lowest_product_of_2 = array[0] * array[1]\n",
    "\n",
    "    \n",
    "    for current_num in array[2:]:\n",
    "        highest = max(current_num, highest)        \n",
    "        lowest = min(current_num, lowest)\n",
    "\n",
    "        highest_product_of_2 = max(\n",
    "            current_num * highest,\n",
    "            current_num * lowest,\n",
    "            highest_product_of_2,\n",
    "        )\n",
    "        \n",
    "        lowest_product_of_2 = min(\n",
    "            current_num * highest,\n",
    "            current_num * lowest,\n",
    "            lowest_product_of_2\n",
    "        )\n",
    "        \n",
    "        highest_product_of_3 = max(\n",
    "            current_num * highest_product_of_2,\n",
    "            current_num * lowest_product_of_2,\n",
    "            highest_product_of_3\n",
    "        )\n",
    "        \n",
    "    print highest_product_of_3\n",
    "    return highest_product_of_3\n",
    "\n",
    "\n",
    "assert highest_product([6, 5, 3, 1, 2, 4]) == 120\n",
    "assert highest_product([-10, -10, 1, 3, 2]) == 300"
   ]
  },
  {
   "cell_type": "markdown",
   "metadata": {},
   "source": [
    "<a id=\"problem4\"></a>\n",
    "## #4 Rectangular intersection\n",
    "\n",
    "They need help writing an algorithm to find the intersection of two users' love rectangles. They suspect finding that intersection is the key to a matching algorithm so powerful it will cause an immediate acquisition by Google or Facebook or Obama or something.\n",
    "It must\n",
    "be love\n",
    "Write a function to find the rectangular intersection of two given love rectangles.\n",
    "Love rectangles are defined as hash maps like this:\n",
    "\n",
    "```python\n",
    "my_rectangle = {\n",
    "\n",
    "    # coordinates of bottom-left corner:\n",
    "    'x': 1, \n",
    "    'y': 5, \n",
    "\n",
    "    # width and height\n",
    "    'width': 10,\n",
    "    'height': 4,\n",
    "\n",
    "}\n",
    "```\n",
    "Your output rectangle should use this format as well.\n"
   ]
  },
  {
   "cell_type": "code",
   "execution_count": 1,
   "metadata": {
    "collapsed": false
   },
   "outputs": [
    {
     "name": "stdout",
     "output_type": "stream",
     "text": [
      "(2, 4)\n"
     ]
    }
   ],
   "source": [
    "# solve finding x overlap\n",
    "\"\"\"\n",
    "w/overlap\n",
    "------------------\n",
    "                 ^\n",
    "             low_point    \n",
    "       -----------------------\n",
    "       ^\n",
    "     high_point  \n",
    "     \n",
    "\n",
    "no overlap\n",
    "------------------\n",
    "                 ^\n",
    "             low_point    \n",
    "                  ------------\n",
    "                  ^\n",
    "              high_point \n",
    "\n",
    "another example\n",
    "         -----------------\n",
    "         ^\n",
    "     high_point \n",
    "-------------\n",
    "            ^\n",
    "        low_point\n",
    "\"\"\"\n",
    "def find_overlap(point1, length1, point2, length2):\n",
    "    \n",
    "    # get higher of the two points\n",
    "    high_point = max(point1, point2)\n",
    "    low_point = min(point1 + length1, point2 + length2)\n",
    "    \n",
    "    if high_point >= low_point:\n",
    "        return (None, None)\n",
    "    \n",
    "\n",
    "    overlap_length = low_point - high_point\n",
    "    print (high_point, overlap_length)\n",
    "    return (high_point, overlap_length)\n",
    "    \n",
    "\n",
    "\"\"\"\n",
    "0123456789\n",
    "----------\n",
    " *****\n",
    "  ****\n",
    "\"\"\"\n",
    "assert find_overlap(1, 5, 2, 4) == (2, 4)\n",
    "assert find_overlap(1, 5, 6, 4) == (None, None)"
   ]
  },
  {
   "cell_type": "markdown",
   "metadata": {},
   "source": [
    "<a id=\"problem5\"></a>\n",
    "## #5 Merge sorted arrays\n",
    "\n",
    "Each order is represented by an \"order id\" (an integer).\n",
    "We have our lists of orders sorted numerically already, in arrays. Write a function to merge our arrays of orders into one sorted array.\n",
    "For example:\n",
    "```python\n",
    "my_array     = [3,4,6,10,11,15]\n",
    "alices_array = [1,5,8,12,14,19]\n",
    "\n",
    "print merge_arrays(my_array, alices_array)\n",
    "# prints [1,3,4,5,6,8,10,11,12,14,15,19]\n",
    "```\n",
    "\n"
   ]
  },
  {
   "cell_type": "code",
   "execution_count": 2,
   "metadata": {
    "collapsed": false
   },
   "outputs": [],
   "source": [
    "\"\"\"\n",
    "arr1         = [3,  4,  6, 10, 11, 15]\n",
    "arr2         = [1,  5,  8, 12, 14, 19]\n",
    "merged_array = [1,  x,  x,  x,  x,  x]\n",
    "\n",
    "Pick the lowest of the two and then remove the element\n",
    "\n",
    "arr1         = [3,  4,  6, 10, 11, 15]\n",
    "arr2         = [5,  8, 12, 14, 19]\n",
    "merged_array = [1,  x,  x,  x,  x,  x]\n",
    "\"\"\"\n",
    "\n",
    "def merge_sorted_arrays(arr1, arr2):\n",
    "    merged_array = []\n",
    "    merged_len = len(arr1) + len(arr2)\n",
    "    index = 0\n",
    "    \n",
    "    while index < merged_len:\n",
    "        if len(arr2) == 0:\n",
    "            merged_array.extend(arr1)\n",
    "            return merged_array\n",
    "        \n",
    "        if len(arr1) == 0:\n",
    "            merged_array.extend(arr2)\n",
    "            return merged_array\n",
    "        \n",
    "        # cases: comparing elements\n",
    "        if arr1[0] < arr2[0]:\n",
    "            merged_array.append(arr1.pop(0))\n",
    "        else:\n",
    "            merged_array.append(arr2.pop(0))\n",
    "\n",
    "        index += 1\n",
    "\n",
    "    return merged_array\n",
    "    \n",
    "a = [1, 6, 9, 11, 15]\n",
    "b = [5, 7, 13, 14, 16]\n",
    "\n",
    "assert merge_sorted_arrays(a, b) == [1, 5, 6, 7, 9, 11, 13, 14, 15, 16]\n",
    "assert merge_sorted_arrays([], [2, 3, 4]) == [2, 3, 4]\n",
    "assert merge_sorted_arrays([5], [2, 3, 4]) == [2, 3, 4, 5]"
   ]
  },
  {
   "cell_type": "markdown",
   "metadata": {
    "collapsed": false
   },
   "source": [
    "<a id=\"problem6\"></a>\n",
    "## #6 Rectangular-love\n",
    "\n",
    "They need help writing an algorithm to find the intersection of two users' love rectangles. The rectangles are represented by hashmaps \n",
    "\n",
    "```python\n",
    "my_rectangle = {\n",
    "    # coordinates of bottom-left corner:\n",
    "    'x': 1, \n",
    "    'y': 5, \n",
    "\n",
    "    # width and height\n",
    "    'width': 10,\n",
    "    'height': 4,\n",
    "}\n",
    "```"
   ]
  },
  {
   "cell_type": "code",
   "execution_count": 11,
   "metadata": {
    "collapsed": false
   },
   "outputs": [],
   "source": [
    "def find_rect_intersection(r1, r2):\n",
    "    if r1['x'] == r2['x'] \\\n",
    "        and r1['y'] == r2['y'] \\\n",
    "        and r1['height'] == r2['height'] \\\n",
    "        and r1['width'] == r2['width']:\n",
    "            return r1\n",
    "    \n",
    "    x_size = overlap_x(r1, r2)\n",
    "    y_size = overlap_y(r1, r2)\n",
    "    \n",
    "    if x_size > 0 and y_size > 0:\n",
    "        rect = {\n",
    "            'length': y_size,\n",
    "            'width': x_size\n",
    "        }\n",
    "        if r1['x'] < r2['x']:\n",
    "            rect['x'] = r2['x']\n",
    "            rect['y'] = r2['y']\n",
    "        else:\n",
    "            rect['x'] = r1['x']\n",
    "            rect['y'] = r1['y']\n",
    "\n",
    "        return rect\n",
    "    else:\n",
    "        return \"No overlap\"\n",
    "\n",
    "\n",
    "def overlap_x(r1, r2):\n",
    "    r1_ending_x = r1['x'] + r1['width']\n",
    "    r2_ending_x = r2['x'] + r2['width']\n",
    "    \n",
    "    if r2['x'] > r1['x'] and r2['x'] < r1_ending_x:\n",
    "        return r1_ending_x - r2['x']\n",
    "    \n",
    "    if r1['x'] > r2['x'] and r1['x'] < r2_ending_x:\n",
    "        return r2_ending_x - r1['x']\n",
    "\n",
    "\n",
    "def overlap_y(r1, r2):\n",
    "    r1_ending_y = r1['y'] + r1['height']\n",
    "    r2_ending_y = r2['y'] + r2['height']\n",
    "\n",
    "    if r2['y'] > r1['y'] and r2['y'] < r1_ending_y:\n",
    "        return r1_ending_y - r2['y'] \n",
    "    \n",
    "    if r1['y'] > r2['y'] and r1['y'] < r2_ending_y:\n",
    "        return r2_ending_y - r1['y']\n",
    "    \n",
    "r1 = {\n",
    "    'x': 2, \n",
    "    'y': 1, \n",
    "    'width': 4,\n",
    "    'height': 2,\n",
    "}\n",
    "    \n",
    "r2 = {\n",
    "    'x': 4, \n",
    "    'y': 2, \n",
    "    'width': 3,\n",
    "    'height': 4,\n",
    "}\n",
    "\n",
    "# test overlap functions\n",
    "assert overlap_x(r1, r2) == 2\n",
    "assert overlap_x(r2, r1) == 2\n",
    "assert overlap_y(r1, r2) == 1\n",
    "assert overlap_y(r2, r1) == 1\n",
    "\n",
    "assert find_rect_intersection(r1, r2) == {'x': 4, 'y': 2, 'width': 2, 'length': 1}\n",
    "assert find_rect_intersection(r2, r1) == {'x': 4, 'y': 2, 'width': 2, 'length': 1}\n",
    "\n",
    "# rect overlap completely\n",
    "assert find_rect_intersection(r1, r1) == r1"
   ]
  },
  {
   "cell_type": "markdown",
   "metadata": {
    "collapsed": true
   },
   "source": [
    "<a id=\"problem7\"></a>\n",
    "## #7 temperature-tracker\n",
    "\n",
    "You decide to test if your oddly-mathematical heating company is fulfilling its All-Time Max, Min, Mean and Mode Temperature Guarantee™.\n",
    "Write a class TempTracker with these methods:\n",
    "\n",
    "`insert()`—records a new temperature\n",
    "`get_max()`—returns the highest temp we've seen so far\n",
    "`get_min()`—returns the lowest temp we've seen so far\n",
    "`get_mean()`—returns the mean of all temps we've seen so far\n",
    "`get_mode()`—returns the mode of all temps we've seen so far\n",
    "Optimize for space and time. Favor speeding up the get_ functions over speeding up the `insert()` function.\n",
    "\n",
    "get_mean() should return a float, but the rest of the get_ functions can return integers. Temperatures will all be inserted as integers. We'll record our temperatures in Fahrenheit, so we can assume they'll all be in the range 0..1100..110.\n",
    "\n",
    "If there is more than one mode, return any of the modes."
   ]
  },
  {
   "cell_type": "code",
   "execution_count": 10,
   "metadata": {
    "collapsed": false
   },
   "outputs": [],
   "source": [
    "\n",
    "from collections import defaultdict\n",
    "\n",
    "\n",
    "class TemperatureTracker(object):\n",
    "    \"\"\"Tracks min, max and average temp\"\"\"\n",
    "    def __init__(self):\n",
    "        self.max = None\n",
    "        self.min = None\n",
    "        self.sum = 0\n",
    "        self.val_count = 0\n",
    "        self.max_occurence = 0\n",
    "        self.mode = None\n",
    "        self.temp_dict = defaultdict(int)\n",
    "\n",
    "    def insert(self, val):\n",
    "\n",
    "        if self.max == None or val > self.max:\n",
    "            self.max = val\n",
    "\n",
    "        if self.min == None or val < self.min:\n",
    "            self.min = val\n",
    "\n",
    "        self.sum += val\n",
    "        self.val_count += 1\n",
    "        self.temp_dict[val] += 1\n",
    "\n",
    "        if self.mode == None or self.temp_dict[val] > self.max_occurence:\n",
    "            self.max_occurence = self.temp_dict[val]\n",
    "            self.mode = val\n",
    "\n",
    "    def get_max(self):\n",
    "        return self.max\n",
    "\n",
    "    def get_min(self):\n",
    "        return self.min\n",
    "\n",
    "    def get_avg(self):\n",
    "        return self.sum / float(self.val_count)\n",
    "\n",
    "    def get_mode(self):\n",
    "        return self.mode\n",
    "\n",
    "temp_list = [9, 10, 1, 3, 4, 5, 5, 5]\n",
    "tracker = TemperatureTracker()\n",
    "for val in temp_list:\n",
    "    tracker.insert(val)\n",
    "\n",
    "assert tracker.get_max() == max(temp_list)\n",
    "assert tracker.get_min() == min(temp_list)\n",
    "assert tracker.get_avg() == sum(temp_list) / float(len(temp_list))\n",
    "assert tracker.get_mode() == 5"
   ]
  },
  {
   "cell_type": "markdown",
   "metadata": {
    "collapsed": true
   },
   "source": [
    "<a id=\"problem8\"></a>\n",
    "## #8 Superbalanced tree\n"
   ]
  },
  {
   "cell_type": "code",
   "execution_count": 95,
   "metadata": {
    "collapsed": false
   },
   "outputs": [
    {
     "name": "stdout",
     "output_type": "stream",
     "text": [
      "Bob\n",
      "Bob2\n",
      "Maud\n",
      "Steven\n",
      "Tony\n"
     ]
    }
   ],
   "source": [
    "class BinaryTree(object):\n",
    "    def __init__(self, root_id):\n",
    "        self.left = None\n",
    "        self.right = None\n",
    "        self.root = root_id\n",
    "    \n",
    "    def insert_right(self, new_node):\n",
    "        if self.right == None:\n",
    "            self.right = BinaryTree(new_node)\n",
    "        else:\n",
    "            new_tree = BinaryTree(new_node)\n",
    "            new_tree.right = self.right\n",
    "            self.right = new_tree\n",
    "    \n",
    "    def insert_left(self, new_node):\n",
    "        if self.left == None:\n",
    "            self.left = BinaryTree(new_node)\n",
    "        else:\n",
    "            new_tree = BinaryTree(new_node)\n",
    "            new_tree.left = self.left\n",
    "            self.left = new_tree\n",
    "                               \n",
    "def print_tree(tree):\n",
    "    if tree != None:\n",
    "        print_tree(tree.left)\n",
    "        print(tree.root)\n",
    "        print_tree(tree.right)\n",
    "\n",
    "\n",
    "tree = BinaryTree(\"Maud\")\n",
    "tree.insert_left(\"Bob\")\n",
    "tree.insert_left(\"Bob2\")\n",
    "tree.insert_right(\"Tony\")\n",
    "tree.insert_right(\"Steven\")\n",
    "print_tree(tree)"
   ]
  },
  {
   "cell_type": "markdown",
   "metadata": {},
   "source": [
    "<a id=\"problem12\"></a>\n",
    "## #12 Find in Ordered Set\n",
    "\n",
    "Suppose we had an array of n integers in sorted order. How quickly could we check if a given integer is in the array?"
   ]
  },
  {
   "cell_type": "code",
   "execution_count": 180,
   "metadata": {
    "collapsed": false
   },
   "outputs": [
    {
     "name": "stdout",
     "output_type": "stream",
     "text": [
      "input  [1, 2, 3, 3, 4, 5, 6, 8, 10, 11, 12]\n",
      "checking right [6, 8, 10, 11, 12]\n",
      "input  [6, 8, 10, 11, 12]\n",
      "checking right [11, 12]\n",
      "input  [11, 12]\n"
     ]
    }
   ],
   "source": [
    "def find_in_ordered_set(input_list, num):\n",
    "    if  not input_list:\n",
    "        return False\n",
    "    \n",
    "    midpoint = len(input_list) / 2\n",
    "\n",
    "    if input_list[midpoint] == num:\n",
    "        return True\n",
    "    elif input_list[midpoint] > num:\n",
    "        print \"checking left\", input_list[:midpoint]\n",
    "        return find_in_ordered_set(input_list[:midpoint], num)\n",
    "    elif input_list[midpoint] < num:\n",
    "        print \"checking right\", input_list[midpoint+1:]\n",
    "        return find_in_ordered_set(input_list[midpoint+1:], num)\n",
    "        \n",
    "    \n",
    "list = [1, 2, 3, 3, 4, 5, 6, 8, 10, 11, 12]\n",
    "\n",
    "# assert find_in_ordered_set(list, 7) == False\n",
    "# assert find_in_ordered_set(list, 3) == True\n",
    "assert find_in_ordered_set(list, 12) == True\n",
    "\n"
   ]
  },
  {
   "cell_type": "code",
   "execution_count": 170,
   "metadata": {
    "collapsed": false
   },
   "outputs": [],
   "source": [
    "def find_in_ordered_set_2(input_list, start, stop, target):\n",
    "    \"\"\"Changing function so position is returned\"\"\"\n",
    "#     print \"start {}, stop {}\".format(start, stop)\n",
    "\n",
    "    if start == stop:\n",
    "        return None\n",
    "    \n",
    "    mid = start + ((stop - start) // 2)\n",
    "    if input_list[mid] == target:\n",
    "        return mid\n",
    "    elif input_list[mid] > target:\n",
    "        return find_in_ordered_set_2(input_list, start, mid, target)\n",
    "    elif input_list[mid] < target:\n",
    "        return find_in_ordered_set_2(input_list, mid + 1, stop, target)\n",
    "        \n",
    "input_list = [1, 2, 3, 3, 4, 5, 6, 8, 10, 11, 12]\n",
    "                    \n",
    "assert find_in_ordered_set_2(input_list, 0, len(input_list), 7) == None\n",
    "assert find_in_ordered_set_2(input_list, 0, len(input_list), 12) == 10\n",
    "assert find_in_ordered_set_2(input_list, 0, len(input_list), 8) == 7\n"
   ]
  },
  {
   "cell_type": "markdown",
   "metadata": {},
   "source": [
    "<a id=\"problem13\"></a>\n",
    "## #13 Find rotation point\n",
    "\n",
    "I want to learn some big words so that people think I'm smart.\n",
    "I opened up a dictionary to a page in the middle and started flipping through, looking for words I didn't know. I decided to start placing them at increasing indices in a huge array I created in memory. When I reached the end of the dictionary, I started from the beginning and did the same thing until I reached the page I had started at.\n",
    "\n",
    "Now I have an array of words that are mostly alphabetical, except they start somewhere in the middle of the alphabet, reach the end, and then start from the beginning of the alphabet. In other words, this is an alphabetically ordered array that has been \"rotated.\"\n",
    "\n",
    "Write a function for finding the \"rotation point,\" which is where I started working from the beginning of the dictionary. This array is huge (there are lots of words I don't know) so we want to be efficient here."
   ]
  },
  {
   "cell_type": "code",
   "execution_count": 203,
   "metadata": {
    "collapsed": false
   },
   "outputs": [],
   "source": [
    "def find_rotation(input_list, start, stop):\n",
    "    if (start == stop) or (stop - start == 1) :\n",
    "        return None\n",
    "    \n",
    "    mid = start + ((stop - start) // 2)\n",
    "    if input_list[mid] < input_list[mid - 1]:\n",
    "        return mid\n",
    "    elif input_list[mid] > input_list[start]:\n",
    "        # reflection point located on the right \n",
    "        return find_rotation(input_list, mid + 1 , stop)\n",
    "    elif input_list[mid] < input_list[start]:\n",
    "        return find_rotation(input_list, start , mid)\n",
    "   \n",
    "input_list = [1]\n",
    "input_list2 = [3, 4, 5, 6, 7, 8, 9, 2, 1]\n",
    "input_list3 = [8, 9, 1, 2, 3, 4, 5, 6, 7]\n",
    "input_list4 = [1, 2, 3, 4, 5, 6, 7, 8, 9]\n",
    "\n",
    "\n",
    "assert find_rotation(input_list, 0, len(input_list)) == None\n",
    "assert find_rotation(input_list2, 0, len(input_list2)) == 7\n",
    "assert find_rotation(input_list3, 0, len(input_list3)) == 2\n",
    "assert find_rotation(input_list4, 0, len(input_list4)) == None"
   ]
  },
  {
   "cell_type": "markdown",
   "metadata": {},
   "source": [
    "<a id=\"problem14\"></a>\n",
    "## #14 Inflight Entertainment\n",
    "\n",
    "You've built an in-flight entertainment system with on-demand movie streaming.\n",
    "Users on longer flights like to start a second movie right when their first one ends, but they complain that the plane usually lands before they can see the ending. So you're building a feature for choosing two movies whose total runtimes will equal the exact flight length.\n",
    "\n",
    "Write a function that takes an integer flight_length (in minutes) and an array of integers movie_lengths (in minutes) and returns a boolean indicating whether there are two numbers in movie_lengths whose sum equals flight_length.\n",
    "\n",
    "When building your function:\n",
    "\n",
    "- Assume your users will watch exactly two movies\n",
    "- Don't make your users watch the same movie twice\n",
    "- Optimize for runtime over memory"
   ]
  },
  {
   "cell_type": "code",
   "execution_count": 233,
   "metadata": {
    "collapsed": false
   },
   "outputs": [],
   "source": [
    "from collections import defaultdict\n",
    "\n",
    "def can_watch(flight_length, movies_times):\n",
    "    \"\"\"\n",
    "    Input\n",
    "    (int) flight_length - in minutes\n",
    "    (list ints) movie_times - list of movie_lengths\n",
    "    \n",
    "    Ouput\n",
    "    (bool) - two numbers in movie_lengths whose sum equals flight_length.\n",
    "    \"\"\"\n",
    "    if flight_length and movies_times:\n",
    "        times = defaultdict(int)\n",
    "        for movie in movies_times:\n",
    "            time_left = flight_length - movie\n",
    "            if time_left in times:\n",
    "                return True\n",
    "            \n",
    "            times[movie] = True\n",
    "    else:\n",
    "        return False\n",
    "    \n",
    "    \n",
    "assert can_watch(0, [120, 60]) == False\n",
    "assert can_watch(12, []) == False\n",
    "assert can_watch(120, [60, 60]) == True\n",
    "assert can_watch(120, [60, 61, 30, 90]) == True"
   ]
  },
  {
   "cell_type": "markdown",
   "metadata": {},
   "source": [
    "<a id=\"problem15\"></a>\n",
    "## #15 Nth Fibonacci\n",
    "\n",
    "Write a function fib() that a takes an integer nn and returns the nnth fibonacci ↴ number.\n",
    "\n",
    "Let's say our fibonacci series is 0-indexed and starts with 0. So:\n",
    "```python\n",
    "fib(0) # => 0\n",
    "fib(1) # => 1\n",
    "fib(2) # => 1\n",
    "fib(3) # => 2\n",
    "fib(4) # => 3\n",
    "```"
   ]
  },
  {
   "cell_type": "code",
   "execution_count": null,
   "metadata": {
    "collapsed": false
   },
   "outputs": [],
   "source": [
    "def fib(num):\n",
    "    \"\"\"\n",
    "    This solution will build the call stack O(2^n)\n",
    "    we could improve this by memorize repeating calls in a dictionary\n",
    "    \"\"\"\n",
    "    print \"in function\"\n",
    "    if num in [1,0]:\n",
    "        return num\n",
    "    return fib(num - 1) + fib(num - 2)\n",
    "\n",
    "fib(10)"
   ]
  },
  {
   "cell_type": "code",
   "execution_count": 260,
   "metadata": {
    "collapsed": false
   },
   "outputs": [
    {
     "name": "stdout",
     "output_type": "stream",
     "text": [
      "function\n"
     ]
    },
    {
     "data": {
      "text/plain": [
       "55"
      ]
     },
     "execution_count": 260,
     "metadata": {},
     "output_type": "execute_result"
    }
   ],
   "source": [
    "def fib_iterative(n):\n",
    "    \"\"\"\n",
    "    Ground up solution\n",
    "    \"\"\"\n",
    "    print \"function\"\n",
    "    # edge cases:\n",
    "    if n < 0:\n",
    "        raise Exception(\"Index was negative. No such thing as a negative index in a series.\")\n",
    "\n",
    "    elif n in [0,1]:\n",
    "        return n\n",
    "\n",
    "    prev = 0\n",
    "    prev_prev = 1\n",
    "\n",
    "    for index in range(n):\n",
    "        current = prev + prev_prev\n",
    "        prev_prev = prev\n",
    "        prev = current\n",
    "\n",
    "    return current\n",
    "\n",
    "fib_iterative(10)"
   ]
  },
  {
   "cell_type": "markdown",
   "metadata": {},
   "source": [
    "## #16 Cake Thief\n",
    "While Queen Elizabeth has a limited number of types of cake, she has an unlimited supply of each type.\n",
    "\n",
    "Each type of cake has a weight and a value, stored in tuples ↴ with two positions:\n",
    "\n",
    "An integer representing the weight of the cake in kilograms\n",
    "An integer representing the monetary value of the cake in British pounds\n",
    "For example:\n",
    "\n",
    "`(7, 160)` weighs 7 kilograms and has a value of 160 pounds\n",
    "\n",
    "\n",
    "`(3, 90)` weighs 3 kilograms and has a value of 90 pounds\n",
    "\n",
    "You brought a duffel bag that can hold limited weight, and you want to make off with the most valuable haul possible.\n",
    "\n",
    "Write a function max_duffel_bag_value() that takes an array of cake tuples and a weight capacity, and returns the maximum monetary value the duffel bag can hold.\n",
    "\n",
    "For example:\n",
    "```python\n",
    "cake_tuples = [(7, 160), (3, 90), (2, 15)]\n",
    "capacity    = 20\n",
    "\n",
    "max_duffel_bag_value(cake_tuples, capacity)\n",
    "# returns 555 (6 of the middle type of cake and 1 of the last type of cake)\n",
    "```\n",
    "\n",
    "Weights and values may be any non-negative integer. Yes, it's weird to think about cakes that weigh nothing or duffel bags that can't hold anything. But we're not just super mastermind criminals—we're also meticulous about keeping our algorithms flexible and comprehensive."
   ]
  },
  {
   "cell_type": "code",
   "execution_count": 300,
   "metadata": {
    "collapsed": false
   },
   "outputs": [
    {
     "name": "stdout",
     "output_type": "stream",
     "text": [
      "6 540 2\n",
      "1 555 0\n"
     ]
    }
   ],
   "source": [
    "def max_duffel_bag_value(cakes, bag_size):\n",
    "    if bag_size and cakes:\n",
    "        #sort Cakes by potential \n",
    "        sorted_cakes = sorted(cakes, key=lambda tup: tup[1]/tup[0], reverse=True)\n",
    "        \n",
    "        total_val = 0 \n",
    "        remaining_space = bag_size\n",
    "        current = 0\n",
    "        for weight, value in sorted_cakes:\n",
    "            if remaining_space // weight > 0:\n",
    "                able_to_fit = remaining_space // weight\n",
    "                total_val += able_to_fit * value\n",
    "                remaining_space -= able_to_fit * weight\n",
    "                \n",
    "                print able_to_fit, total_val, remaining_space\n",
    "                \n",
    "        return total_val\n",
    "            \n",
    "    else:\n",
    "        return 0\n",
    "    \n",
    "cakes = [(7, 160), (3, 90), (2, 15)]\n",
    "\n",
    "assert max_duffel_bag_value(cakes, 20) == 555\n",
    "assert max_duffel_bag_value(cakes, 0) == 0\n",
    "# assert max_duffel_bag_value([(7, 160), (3, 90), (0, 15)], 1) == 0"
   ]
  },
  {
   "cell_type": "markdown",
   "metadata": {},
   "source": [
    "<a id=\"problem19\"></a>\n",
    "## #19 Queue with two stacks\n",
    "\n",
    "Implement a queue with 2 stacks. Your queue should have an enqueue and a dequeue function and it should be \"first in first out\" (FIFO).\n",
    "Optimize for the time cost of mm function calls on your queue. These can be any mix of enqueue and dequeue calls.\n",
    "\n",
    "Assume you already have a stack implementation and it gives O(1)O(1) time push and pop."
   ]
  },
  {
   "cell_type": "code",
   "execution_count": 331,
   "metadata": {
    "collapsed": false
   },
   "outputs": [],
   "source": [
    "class Stack(object):\n",
    "\n",
    "    \"\"\"\n",
    "    LIFO, last-in first-out\n",
    "    \"\"\"\n",
    "\n",
    "    def __init__(self):\n",
    "        self.items = []\n",
    "\n",
    "    def push(self, item):\n",
    "        \"\"\"\n",
    "        Adds a new item to the top of the stack. It needs the item and returns nothing\n",
    "        \"\"\"\n",
    "        self.items.append(item)\n",
    "\n",
    "    def pop(self):\n",
    "        \"\"\"\n",
    "        Removes the top item from the stack. It needs no parameters and returns the item\n",
    "        \"\"\"\n",
    "        return self.items.pop()\n",
    "\n",
    "    def peek(self):\n",
    "        \"\"\"\n",
    "        Returns the top item from the stack but does not remove it. It needs no parameters\n",
    "        \"\"\"\n",
    "        return self.items[-1]   # Alternately self.items[len(self.items) - 1]\n",
    "\n",
    "    def is_empty(self):\n",
    "        return self.items == []\n",
    "\n",
    "    def size(self):\n",
    "        return len(self.items)\n",
    "    \n",
    "\n",
    "    \n",
    "class QueueStack(object):\n",
    "    def __init__(self):\n",
    "        self.stack_1 = Stack()\n",
    "        self.stack_2 = Stack()\n",
    "        \n",
    "    def enqueue(self, val):\n",
    "        self.stack_1.push(val)\n",
    "        \n",
    "    def dequeue(self):\n",
    "        while not self.stack_1.is_empty():\n",
    "            self.stack_2.push(self.stack_1.pop())\n",
    "            \n",
    "        return self.stack_2.pop()\n",
    "        \n",
    "        \n",
    "queue = QueueStack()\n",
    "\n",
    "for x in range(10):\n",
    "    queue.enqueue(x)\n",
    "    \n",
    "for x in range(10):\n",
    "    assert queue.dequeue() == x\n",
    "    "
   ]
  },
  {
   "cell_type": "markdown",
   "metadata": {},
   "source": [
    "We might guess that this \"averages out\" so that in a set of `m` enqueues and dequeues the total cost of all dequeues is actually just `O(m)`. To check this rigorously, we can use the accounting method , counting the time cost per item instead of per enqueue or dequeue.\n",
    "\n",
    "So let's look at the worst case for a single item, which is the case where it is enqueued and then later dequeued. In this case, the item enters inStack (costing 1 push), then later moves to outStack (costing 1 pop and 1 push), then later comes off outStack to get returned (costing 1 pop).\n",
    "\n",
    "Each of these 4 pushes and pops is `O(1)` time. So our total cost per item is `O(1)`. Our mm enqueue and dequeue operations put mm or fewer items into the system, giving a total runtime of `O(m)`!"
   ]
  },
  {
   "cell_type": "markdown",
   "metadata": {},
   "source": [
    "<a id=\"problem20\"></a>\n",
    "## #20 Largest stack\n",
    "You've implemented a Stack class, but you want to be able to access the largest element in a stack.\n",
    "\n",
    "Use your Stack class to implement a new class MaxStack with a function get_max() that returns the largest element in the stack. get_max() should not remove the item.\n",
    "\n",
    "Your stacks will contain only integers."
   ]
  },
  {
   "cell_type": "code",
   "execution_count": 354,
   "metadata": {
    "collapsed": false
   },
   "outputs": [
    {
     "name": "stdout",
     "output_type": "stream",
     "text": [
      "[1, 9, 8, 7, 6, 3]\n",
      "[1, 9]\n",
      "3\n",
      "max:  9\n",
      "6\n",
      "max:  9\n",
      "7\n",
      "max:  9\n",
      "8\n",
      "max:  9\n"
     ]
    }
   ],
   "source": [
    "class Stack:\n",
    "    def __init__(self):\n",
    "        self.items = []\n",
    "\n",
    "    def push(self, item):\n",
    "        self.items.append(item)\n",
    "        \n",
    "    def pop(self):\n",
    "        if not self.items: return None\n",
    "        return self.items.pop()\n",
    "\n",
    "    def peek(self):\n",
    "        if not self.items: return None\n",
    "\n",
    "        return self.items[len(self.items)-1]\n",
    "    \n",
    "class MaxStack():\n",
    "    def __init__(self):\n",
    "        self.stack = Stack()\n",
    "        self.maxs_stack = Stack()\n",
    "    \n",
    "    def push(self, item):\n",
    "        self.stack.push(item)\n",
    "        if item >= self.maxs_stack.peek():\n",
    "            self.maxs_stack.push(item)\n",
    "\n",
    "    def pop(self):\n",
    "        item = self.stack.pop()\n",
    "        if (item == self.maxs_stack.peek()):\n",
    "            self.maxs_stack.pop()\n",
    "        return item\n",
    "\n",
    "    def get_max(self):\n",
    "        return self.maxs_stack.peek()\n",
    "    \n",
    "items = [1, 9, 8, 7, 6, 3]\n",
    "\n",
    "stack = MaxStack()\n",
    "for item in items:\n",
    "    stack.push(item) \n",
    "\n",
    "print stack.stack.items\n",
    "print stack.maxs_stack.items \n",
    "print stack.pop()\n",
    "print \"max: \", stack.get_max()\n",
    "print stack.pop()\n",
    "print \"max: \", stack.get_max()\n",
    "print stack.pop()\n",
    "print \"max: \", stack.get_max()\n",
    "print stack.pop()\n",
    "print \"max: \", stack.get_max()"
   ]
  }
 ],
 "metadata": {
  "kernelspec": {
   "display_name": "Python 2",
   "language": "python",
   "name": "python2"
  },
  "language_info": {
   "codemirror_mode": {
    "name": "ipython",
    "version": 2
   },
   "file_extension": ".py",
   "mimetype": "text/x-python",
   "name": "python",
   "nbconvert_exporter": "python",
   "pygments_lexer": "ipython2",
   "version": "2.7.6"
  }
 },
 "nbformat": 4,
 "nbformat_minor": 0
}
