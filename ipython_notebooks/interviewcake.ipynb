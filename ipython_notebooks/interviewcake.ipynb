{
 "metadata": {
  "name": "",
  "signature": "sha256:bd8b80b3bb0dd614fc02ffec32b0d629013d19886eff628eb2de69690d41079b"
 },
 "nbformat": 3,
 "nbformat_minor": 0,
 "worksheets": [
  {
   "cells": [
    {
     "cell_type": "markdown",
     "metadata": {},
     "source": [
      "# Table Of Contents\n",
      "\n",
      "[Array traversal problem](#problem1)  \n",
      "[Products of other numbers](#problem2)  \n",
      "[Highest product of 3](#problem3)  \n",
      "[Rectangular intersection](#problem4)  \n",
      "[Merge sorted arrays](#problem5)  "
     ]
    },
    {
     "cell_type": "markdown",
     "metadata": {},
     "source": [
      "<a id=\"problem1\"></a>\n",
      "## Array traversal problem\n",
      "I have an array stockPricesYesterday where:\n",
      "The indices are the time, as a number of minutes past trade opening time, which was 9:30am local time.\n",
      "The values are the price of Apple stock at that time, in dollars.\n",
      "For example, the stock cost $500 at 10:30am, so `stockPricesYesterday[60] = 500`.\n",
      "\n",
      "Write an efficient algorithm for computing the best profit I could have made from 1 purchase and 1 sale of 1 Apple stock yesterday.  \n",
      "\n",
      "For this problem, we won't allow \"shorting\"\u2014you must buy before you sell."
     ]
    },
    {
     "cell_type": "code",
     "collapsed": false,
     "input": [
      "def max_profit(price):\n",
      "    max_price = 0\n",
      "    min_price = price[0]\n",
      "    profit = 0\n",
      "\n",
      "    for item in price:\n",
      "        if item > max_price:\n",
      "            max_price = item\n",
      "        if item < min_price:\n",
      "            min_price = item\n",
      "\n",
      "        profit = max_price - min_price\n",
      "\n",
      "    return profit"
     ],
     "language": "python",
     "metadata": {},
     "outputs": [],
     "prompt_number": 172
    },
    {
     "cell_type": "code",
     "collapsed": false,
     "input": [
      "max_profit([450, 500, 501, 490, 491, 500, 600, 590])"
     ],
     "language": "python",
     "metadata": {},
     "outputs": [
      {
       "metadata": {},
       "output_type": "pyout",
       "prompt_number": 173,
       "text": [
        "150"
       ]
      }
     ],
     "prompt_number": 173
    },
    {
     "cell_type": "markdown",
     "metadata": {},
     "source": [
      "<a id=\"problem2\"></a>\n",
      "## Product of other numbers\n",
      "Write a function get_products_of_all_ints_except_at_index() that takes an array of integers and returns an array of the products.\n",
      "For example, given:\n",
      "    \n",
      "    [1, 7, 3, 4]\n",
      "  \n",
      "your function would return:\n",
      "\n",
      "    [84, 12, 28, 21]\n",
      "  \n",
      "by calculating:\n",
      "\n",
      "    [7*3*4, 1*3*4, 1*7*4, 1*7*3]\n",
      "  \n",
      "Do not use division in your solution."
     ]
    },
    {
     "cell_type": "markdown",
     "metadata": {},
     "source": [
      "#### Bruce Force method \n",
      "$o(n^2)$ runtime"
     ]
    },
    {
     "cell_type": "code",
     "collapsed": false,
     "input": [
      "import operator\n",
      "import functools\n",
      "\n",
      "\n",
      "def get_products_of_all_ints_except_at_index(array):\n",
      "    products = []\n",
      "    for x in xrange(len(array)):\n",
      "        new_array = array[x + 1:] + array[:x]\n",
      "        products.append(functools.reduce(operator.mul, new_array, 1))\n",
      "    \n",
      "    print products\n",
      "    return products\n",
      "\n",
      "\n",
      "assert get_products_of_all_ints_except_at_index([1, 7, 3, 4]) == [84, 12, 28, 21]\n",
      "assert get_products_of_all_ints_except_at_index([1, 7, 3, 4, 0]) == [0, 0, 0, 0, 84]"
     ],
     "language": "python",
     "metadata": {},
     "outputs": [
      {
       "output_type": "stream",
       "stream": "stdout",
       "text": [
        "[84, 12, 28, 21]\n",
        "[0, 0, 0, 0, 84]\n"
       ]
      }
     ],
     "prompt_number": 174
    },
    {
     "cell_type": "markdown",
     "metadata": {},
     "source": [
      "#### $O(n)$ solution\n",
      "To find the products of all the integers except the integer at each index, we'll go through our array greedily twice. First we get the products of all the integers before each index, and then we go backwards to get the products of all the integers after each index.\n",
      "\n",
      "When we multiply all the products before and after each index, we get our answer\u2014the products of all the integers except the integer at each index"
     ]
    },
    {
     "cell_type": "code",
     "collapsed": false,
     "input": [
      "  def get_products_of_all_ints_except_at_index_2(int_array):\n",
      "\n",
      "    # we make an array with the length of the input array to\n",
      "    # hold our products\n",
      "    products_of_all_ints_except_at_index = [1] * len(int_array)\n",
      "    \n",
      "    # for each integer, we find the product of all the integers\n",
      "    # before it, storing the total product so far each time\n",
      "    product = 1\n",
      "    i = 0\n",
      "    while i < len(int_array):\n",
      "        products_of_all_ints_except_at_index[i] = product\n",
      "        product *= int_array[i]\n",
      "        i += 1\n",
      "    \n",
      "    # for each integer, we find the product of all the integers\n",
      "    # after it. since each index in products already has the\n",
      "    # product of all the integers before it, now we're storing\n",
      "    # the total product of all other integers\n",
      "    product = 1\n",
      "    i = len(int_array) - 1\n",
      "    while i >= 0:\n",
      "        products_of_all_ints_except_at_index[i] *= product\n",
      "        product *= int_array[i]\n",
      "        i -= 1\n",
      "\n",
      "    return products_of_all_ints_except_at_index\n",
      "\n",
      "\n",
      "assert get_products_of_all_ints_except_at_index_2([1, 7, 3, 4]) == [84, 12, 28, 21]\n",
      "assert get_products_of_all_ints_except_at_index_2([1, 7, 3, 4, 0]) == [0, 0, 0, 0, 84]"
     ],
     "language": "python",
     "metadata": {},
     "outputs": [],
     "prompt_number": 175
    },
    {
     "cell_type": "markdown",
     "metadata": {},
     "source": [
      "<a id=\"problem3\"></a>\n",
      "## Highest product of 3\n",
      "Given an array_of_ints, find the highest_product you can get from three of the integers.\n",
      "The input array_of_ints will always have at least three integers."
     ]
    },
    {
     "cell_type": "code",
     "collapsed": false,
     "input": [
      "import operator\n",
      "import functools\n",
      "\n",
      "\n",
      "def highest_product(array):\n",
      "    highest = max(array[0], array[1])\n",
      "    lowest = min(array[0], array[1])\n",
      "    highest_product_of_3 = array[0] * array[1] * array[2]\n",
      "    highest_product_of_2 = array[0] * array[1]\n",
      "    lowest_product_of_2 = array[0] * array[1]\n",
      "\n",
      "    \n",
      "    for current_num in array[2:]:\n",
      "        \n",
      "        highest = max(current_num, highest)        \n",
      "        lowest = min(current_num, lowest)\n",
      "\n",
      "        highest_product_of_2 = max(\n",
      "            current_num * highest,\n",
      "            current_num * lowest,\n",
      "            highest_product_of_2,\n",
      "        )\n",
      "        \n",
      "        lowest_product_of_2 = min(\n",
      "            current_num * highest,\n",
      "            current_num * lowest,\n",
      "            lowest_product_of_2\n",
      "        )\n",
      "                \n",
      "        highest_product_of_3 = max(\n",
      "            current_num * highest_product_of_2,\n",
      "            current_num * lowest_product_of_2,\n",
      "            highest_product_of_3\n",
      "        )\n",
      "        \n",
      "    print highest_product_of_3\n",
      "    return highest_product_of_3\n",
      "\n",
      "\n",
      "assert highest_product([6, 5, 3, 1, 2, 4]) == 120\n",
      "assert highest_product([-10, -10, 1, 3, 2]) == 300"
     ],
     "language": "python",
     "metadata": {},
     "outputs": [
      {
       "output_type": "stream",
       "stream": "stdout",
       "text": [
        "120\n",
        "300\n"
       ]
      }
     ],
     "prompt_number": 176
    },
    {
     "cell_type": "markdown",
     "metadata": {},
     "source": [
      "<a id=\"problem4\"></a>\n",
      "## Rectangular intersection\n",
      "\n",
      "They need help writing an algorithm to find the intersection of two users' love rectangles. They suspect finding that intersection is the key to a matching algorithm so powerful it will cause an immediate acquisition by Google or Facebook or Obama or something.\n",
      "It must\n",
      "be love\n",
      "Write a function to find the rectangular intersection of two given love rectangles.\n",
      "Love rectangles are defined as hash maps like this:\n",
      "\n",
      "```python\n",
      "my_rectangle = {\n",
      "\n",
      "    # coordinates of bottom-left corner:\n",
      "    'x': 1, \n",
      "    'y': 5, \n",
      "\n",
      "    # width and height\n",
      "    'width': 10,\n",
      "    'height': 4,\n",
      "\n",
      "}\n",
      "```\n",
      "Your output rectangle should use this format as well.\n"
     ]
    },
    {
     "cell_type": "code",
     "collapsed": false,
     "input": [
      "# solve finding x overlap\n",
      "\"\"\"\n",
      "w/overlap\n",
      "------------------\n",
      "                 ^\n",
      "             low_point    \n",
      "       -----------------------\n",
      "       ^\n",
      "     high_point  \n",
      "     \n",
      "\n",
      "no overlap\n",
      "------------------\n",
      "                 ^\n",
      "             low_point    \n",
      "                  ------------\n",
      "                  ^\n",
      "              high_point \n",
      "\n",
      "another example\n",
      "         -----------------\n",
      "         ^\n",
      "     high_point \n",
      "-------------\n",
      "            ^\n",
      "        low_point\n",
      "\"\"\"\n",
      "def find_overlap(point1, length1, point2, length2):\n",
      "    \n",
      "    # get higher of the two points\n",
      "    high_point = max(point1, point2)\n",
      "    low_point = min(point1 + length1, point2 + length2)\n",
      "    \n",
      "    if high_point >= low_point:\n",
      "        return (None, None)\n",
      "    \n",
      "\n",
      "    overlap_length = low_point - high_point\n",
      "    print (high_point, overlap_length)\n",
      "    return (high_point, overlap_length)\n",
      "    \n",
      "\n",
      "\"\"\"\n",
      "0123456789\n",
      "----------\n",
      " *****\n",
      "  ****\n",
      "\"\"\"\n",
      "assert find_overlap(1, 5, 2, 4) == (2, 4)\n",
      "assert find_overlap(1, 5, 6, 4) == (None, None)"
     ],
     "language": "python",
     "metadata": {},
     "outputs": [
      {
       "output_type": "stream",
       "stream": "stdout",
       "text": [
        "(2, 4)\n"
       ]
      }
     ],
     "prompt_number": 1
    },
    {
     "cell_type": "markdown",
     "metadata": {},
     "source": [
      "<a id=\"problem5\"></a>\n",
      "## Merge sorted arrays\n",
      "\n",
      "Each order is represented by an \"order id\" (an integer).\n",
      "We have our lists of orders sorted numerically already, in arrays. Write a function to merge our arrays of orders into one sorted array.\n",
      "For example:\n",
      "```python\n",
      "my_array     = [3,4,6,10,11,15]\n",
      "alices_array = [1,5,8,12,14,19]\n",
      "\n",
      "print merge_arrays(my_array, alices_array)\n",
      "# prints [1,3,4,5,6,8,10,11,12,14,15,19]\n",
      "```\n",
      "\n"
     ]
    },
    {
     "cell_type": "code",
     "collapsed": false,
     "input": [
      "\"\"\"\n",
      "arr1         = [3,  4,  6, 10, 11, 15]\n",
      "arr2         = [1,  5,  8, 12, 14, 19]\n",
      "merged_array = [1,  x,  x,  x,  x,  x]\n",
      "\n",
      "Pick the lowest of the two and then remove the element\n",
      "\n",
      "arr1         = [3,  4,  6, 10, 11, 15]\n",
      "arr2         = [5,  8, 12, 14, 19]\n",
      "merged_array = [1,  x,  x,  x,  x,  x]\n",
      "\"\"\"\n",
      "\n",
      "def merge_sorted_arrays(arr1, arr2):\n",
      "    merged_array = []\n",
      "    merged_len = len(arr1) + len(arr2)\n",
      "    index = 0\n",
      "    \n",
      "    while index < merged_len:\n",
      "        if len(arr2) == 0:\n",
      "            merged_array.extend(arr1)\n",
      "            return merged_array\n",
      "        \n",
      "        if len(arr1) == 0:\n",
      "            merged_array.extend(arr2)\n",
      "            return merged_array\n",
      "        \n",
      "        # cases: comparing elements\n",
      "        if arr1[0] < arr2[0]:\n",
      "            merged_array.append(arr1.pop(0))\n",
      "        else:\n",
      "            merged_array.append(arr2.pop(0))\n",
      "\n",
      "        index += 1\n",
      "\n",
      "    return merged_array\n",
      "    \n",
      "a = [1, 6, 9, 11, 15]\n",
      "b = [5, 7, 13, 14, 16]\n",
      "\n",
      "assert merge_sorted_arrays(a, b) == [1, 5, 6, 7, 9, 11, 13, 14, 15, 16]\n",
      "assert merge_sorted_arrays([], [2, 3, 4]) == [2, 3, 4]\n",
      "assert merge_sorted_arrays([5], [2, 3, 4]) == [2, 3, 4, 5]"
     ],
     "language": "python",
     "metadata": {},
     "outputs": [],
     "prompt_number": 2
    }
   ],
   "metadata": {}
  }
 ]
}