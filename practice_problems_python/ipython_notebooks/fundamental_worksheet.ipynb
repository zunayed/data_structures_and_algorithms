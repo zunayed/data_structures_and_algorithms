{
 "cells": [
  {
   "cell_type": "markdown",
   "metadata": {},
   "source": [
    "#### https://leetcode.com/problems/two-sum/solution/\n",
    "\n",
    "start on: Tuesday 11/26/2019 - **12:00pm**   \n",
    "end on:   Tuesday 11/26/2019 - **12:12pm**\n",
    "\n",
    "Time ~= `O(n)` + `O(n)` ~= `O(n)`  \n",
    "Space = `O(n)`"
   ]
  },
  {
   "cell_type": "code",
   "execution_count": 17,
   "metadata": {},
   "outputs": [],
   "source": [
    "def twoSum(nums, target):\n",
    "        complement = {}\n",
    "        \n",
    "        for i, x in enumerate(nums):\n",
    "            complement[x] = i\n",
    "\n",
    "        for i, x in enumerate(nums):\n",
    "            pair_to_look_for = target - x\n",
    "        \n",
    "            if pair_to_look_for in complement:\n",
    "                if complement[pair_to_look_for] != i:\n",
    "                    return [i, complement[pair_to_look_for]]\n",
    "\n",
    "        return []"
   ]
  },
  {
   "cell_type": "code",
   "execution_count": 18,
   "metadata": {},
   "outputs": [],
   "source": [
    "assert twoSum([2, 7, 11, 15], 9) == [0, 1]\n",
    "assert twoSum([0, 4, 3, 0], 0) == [0, 3]\n",
    "assert twoSum([3,2,4], 6) == [1,2]"
   ]
  },
  {
   "cell_type": "markdown",
   "metadata": {},
   "source": [
    "#### https://leetcode.com/problems/intersection-of-two-linked-lists/submissions/\n",
    "\n",
    "start on: Tuesday 11/26/2019 - **11:00pm**   \n",
    "end on:   Tuesday 11/26/2019 - **12:00pm**\n",
    "\n",
    "start on: Tuesday 11/26/2019 - **3:09pm**   \n",
    "end on:   Tuesday 11/26/2019 - **4:00pm**\n",
    "\n",
    "Time ~= `O(n)` + `O(n)` + `O(n)` + `O(n)` ~= `O(n)`  (4 passes?)  \n",
    "Space = `O(1)`\n"
   ]
  },
  {
   "cell_type": "code",
   "execution_count": 24,
   "metadata": {},
   "outputs": [],
   "source": [
    "class Solution:\n",
    "    def getIntersectionNode(self, headA: ListNode, headB: ListNode) -> ListNode:\n",
    "        a_pointer = headA\n",
    "        b_pointer = headB\n",
    "        \n",
    "        # get lengths\n",
    "        len_a = 0\n",
    "        len_b = 0\n",
    "        \n",
    "        while a_pointer:\n",
    "            a_pointer = a_pointer.next\n",
    "            len_a += 1\n",
    "            \n",
    "        while b_pointer:\n",
    "            b_pointer = b_pointer.next\n",
    "            len_b += 1\n",
    "        \n",
    "        \n",
    "        # now move the longer of the two the diff of the two LL\n",
    "        a_pointer = headA\n",
    "        b_pointer = headB\n",
    "        if len_a > len_b:\n",
    "            for i in range(len_a - len_b):\n",
    "                a_pointer = a_pointer.next\n",
    "        else:\n",
    "            for i in range(len_b - len_a):\n",
    "                b_pointer = b_pointer.next\n",
    "    \n",
    "    \n",
    "        # at this point one of the pointers will be abs(len_a - len_b) ahead\n",
    "        # this loop will stop when they hit the intersection\n",
    "        while a_pointer != b_pointer:\n",
    "            a_pointer = a_pointer.next\n",
    "            b_pointer = b_pointer.next\n",
    "        \n",
    "        # if there is no intersection a & b will continue and be set to None\n",
    "        return a_pointer"
   ]
  },
  {
   "cell_type": "markdown",
   "metadata": {},
   "source": [
    "#### https://leetcode.com/problems/remove-nth-node-from-end-of-list/submissions/   \n",
    "start on: Tuesday 11/26/2019 - **12:14pm**   \n",
    "end on:   Tuesday 11/26/2019 - **12:24pm**\n",
    "\n",
    "k = pos to remove  \n",
    "Time ~= `O(k)` + `O(n-k)` ~= `O(n)`  \n",
    "Space = `O(1)`"
   ]
  },
  {
   "cell_type": "code",
   "execution_count": 4,
   "metadata": {},
   "outputs": [],
   "source": [
    "class ListNode:\n",
    "    def __init__(self, x):\n",
    "        self.val = x\n",
    "        self.next = None\n",
    "        \n",
    "def removeNthFromEnd(self, head: ListNode, n: int) -> ListNode:\n",
    "    p1 = head\n",
    "    p2 = head\n",
    "    prev = None\n",
    "\n",
    "    for _ in range(n):\n",
    "        print(p1.val)\n",
    "        p1 = p1.next\n",
    "\n",
    "    while p1:\n",
    "        p1 = p1.next\n",
    "        prev = p2\n",
    "        p2 = p2.next\n",
    "\n",
    "    # remove first element element\n",
    "    if not prev:\n",
    "        return p2.next\n",
    "\n",
    "    prev.next = p2.next\n",
    "    return head"
   ]
  },
  {
   "cell_type": "markdown",
   "metadata": {},
   "source": [
    "### https://leetcode.com/problems/palindrome-linked-list/submissions/  \n",
    "start on: Tuesday 11/26/2019 - **12:37pm**   \n",
    "start on: Tuesday 11/26/2019 - **12:53pm**   \n",
    "\n",
    "\n",
    "space ~= `O(n/2)` = `O(n)`  \n",
    "time ~= `O(n/2) + O(n/2) + O(n/2)` ~= `O(n)`"
   ]
  },
  {
   "cell_type": "code",
   "execution_count": 6,
   "metadata": {},
   "outputs": [],
   "source": [
    "def isPalindrome(self, head: ListNode) -> bool:\n",
    "    slow = fast = head\n",
    "\n",
    "    while fast and fast.next:\n",
    "        fast = fast.next.next\n",
    "        slow = slow.next\n",
    "\n",
    "    stack = []\n",
    "    while slow:\n",
    "        stack.append(slow.val) \n",
    "        slow = slow.next\n",
    "\n",
    "    cur = head \n",
    "    for x in range(len(stack) - 1, -1 , -1):\n",
    "        if stack[x] != cur.val:\n",
    "            return False\n",
    "        cur = cur.next \n",
    "\n",
    "    return True "
   ]
  },
  {
   "cell_type": "markdown",
   "metadata": {},
   "source": [
    "### https://leetcode.com/problems/evaluate-reverse-polish-notation/\n",
    "\n",
    "start on: Tuesday 11/26/2019 - **1:35pm**   \n",
    "start on: Tuesday 11/26/2019 - **2:03pm**   \n",
    "\n",
    "space ~= `O(n)`  \n",
    "time ~= `O(1)`"
   ]
  },
  {
   "cell_type": "code",
   "execution_count": 8,
   "metadata": {},
   "outputs": [],
   "source": [
    "def evalRPN(tokens) -> int:\n",
    "    stack = []\n",
    "\n",
    "    for t in tokens:\n",
    "        if t not in [\"*\", \"/\", \"+\", \"-\"]:\n",
    "            stack.append(int(t))\n",
    "        else:\n",
    "            x = stack.pop()\n",
    "            y = stack.pop()\n",
    "\n",
    "            res = 0\n",
    "            if t == \"/\":\n",
    "                # case where we want -1 results to round to 0\n",
    "                if y * x < 0 and y % x != 0:\n",
    "                    res = y // x + 1\n",
    "                else:\n",
    "                    res = y // x \n",
    "            elif t == \"*\":\n",
    "                res = y * x\n",
    "            elif t == \"+\":\n",
    "                res = y + x\n",
    "            elif t == \"-\":\n",
    "                res = y - x\n",
    "\n",
    "            stack.append(res)\n",
    "\n",
    "    return stack[0]"
   ]
  },
  {
   "cell_type": "code",
   "execution_count": 16,
   "metadata": {},
   "outputs": [],
   "source": [
    "assert evalRPN([\"4\",\"-2\",\"/\",\"2\",\"-3\",\"-\",\"-\"]) == -7\n",
    "assert evalRPN([\"2\", \"1\", \"+\", \"3\", \"*\"]) == 9\n",
    "assert evalRPN([\"10\", \"6\", \"9\", \"3\", \"+\", \"-11\", \"*\", \"/\", \"*\", \"17\", \"+\", \"5\", \"+\"]) == 22"
   ]
  },
  {
   "cell_type": "markdown",
   "metadata": {},
   "source": [
    "### https://leetcode.com/problems/number-of-recent-calls/\n",
    "\n",
    "start on: Tuesday 11/26/2019 - **3:00pm**   \n",
    "start on: Tuesday 11/26/2019 - **3:09pm**   \n",
    "\n",
    "space ~= `O(3000)` ~= `O(1)`  \n",
    "time ~= `O(numer of ping calls)`"
   ]
  },
  {
   "cell_type": "code",
   "execution_count": 23,
   "metadata": {},
   "outputs": [],
   "source": [
    "class RecentCounter:\n",
    "\n",
    "    def __init__(self):\n",
    "        self.data = []        \n",
    "\n",
    "    def ping(self, t: int) -> int:\n",
    "        if not self.data:\n",
    "            self.data.append(t)\n",
    "            return 1\n",
    "         \n",
    "        while len(self.data) > 0:\n",
    "            oldest = self.data[0]\n",
    "            if (t - oldest) > 3000:\n",
    "                self.data.pop(0)  \n",
    "            else:\n",
    "                break\n",
    "                \n",
    "        self.data.append(t) \n",
    "       \n",
    "        return len(self.data)"
   ]
  }
 ],
 "metadata": {
  "kernelspec": {
   "display_name": "Python 3",
   "language": "python",
   "name": "python3"
  },
  "language_info": {
   "codemirror_mode": {
    "name": "ipython",
    "version": 3
   },
   "file_extension": ".py",
   "mimetype": "text/x-python",
   "name": "python",
   "nbconvert_exporter": "python",
   "pygments_lexer": "ipython3",
   "version": "3.7.4"
  }
 },
 "nbformat": 4,
 "nbformat_minor": 4
}
