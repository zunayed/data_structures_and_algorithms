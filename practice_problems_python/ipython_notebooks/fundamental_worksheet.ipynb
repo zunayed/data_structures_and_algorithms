{
 "cells": [
  {
   "cell_type": "code",
   "execution_count": 1,
   "metadata": {},
   "outputs": [],
   "source": [
    "def twoSum(nums, target):\n",
    "        complement = {}\n",
    "        \n",
    "        for i, x in enumerate(nums):\n",
    "            complement[x] = i\n",
    "\n",
    "        for i, x in enumerate(nums):\n",
    "            pair_to_look_for = target - x\n",
    "        \n",
    "            if pair_to_look_for in complement:\n",
    "                if complement[pair_to_look_for] != i:\n",
    "                    return [i, complement[pair_to_look_for]]\n",
    "\n",
    "        return []"
   ]
  },
  {
   "cell_type": "code",
   "execution_count": 2,
   "metadata": {},
   "outputs": [],
   "source": [
    "assert twoSum([2, 7, 11, 15], 9) == [0, 1]\n",
    "assert twoSum([0, 4, 3, 0], 0) == [0, 3]\n",
    "assert twoSum([3,2,4], 6) == [1,2]"
   ]
  },
  {
   "cell_type": "markdown",
   "metadata": {},
   "source": [
    "https://leetcode.com/problems/remove-nth-node-from-end-of-list/submissions/   \n",
    "start on: Tuesday 11/26/2019 - **12:10pm**   \n",
    "end on:   Tuesday 11/26/2019 - **12:24pm**"
   ]
  },
  {
   "cell_type": "code",
   "execution_count": null,
   "metadata": {},
   "outputs": [],
   "source": [
    "def removeNthFromEnd(self, head: ListNode, n: int) -> ListNode:\n",
    "    p1 = head\n",
    "    p2 = head\n",
    "    prev = None\n",
    "\n",
    "    for _ in range(n):\n",
    "        print(p1.val)\n",
    "        p1 = p1.next\n",
    "\n",
    "    while p1:\n",
    "        p1 = p1.next\n",
    "        prev = p2\n",
    "        p2 = p2.next\n",
    "\n",
    "    # remove first element element\n",
    "    if not prev:\n",
    "        return p2.next\n",
    "\n",
    "    prev.next = p2.next\n",
    "    return head"
   ]
  }
 ],
 "metadata": {
  "kernelspec": {
   "display_name": "Python 3",
   "language": "python",
   "name": "python3"
  },
  "language_info": {
   "codemirror_mode": {
    "name": "ipython",
    "version": 3
   },
   "file_extension": ".py",
   "mimetype": "text/x-python",
   "name": "python",
   "nbconvert_exporter": "python",
   "pygments_lexer": "ipython3",
   "version": "3.7.4"
  }
 },
 "nbformat": 4,
 "nbformat_minor": 4
}
