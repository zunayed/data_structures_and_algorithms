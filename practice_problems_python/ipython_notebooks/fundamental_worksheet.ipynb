{
 "cells": [
  {
   "cell_type": "code",
   "execution_count": 1,
   "metadata": {},
   "outputs": [],
   "source": [
    "def twoSum(nums, target):\n",
    "        complement = {}\n",
    "        \n",
    "        for i, x in enumerate(nums):\n",
    "            complement[x] = i\n",
    "\n",
    "        for i, x in enumerate(nums):\n",
    "            pair_to_look_for = target - x\n",
    "        \n",
    "            if pair_to_look_for in complement:\n",
    "                if complement[pair_to_look_for] != i:\n",
    "                    return [i, complement[pair_to_look_for]]\n",
    "\n",
    "        return []"
   ]
  },
  {
   "cell_type": "code",
   "execution_count": 2,
   "metadata": {},
   "outputs": [],
   "source": [
    "assert twoSum([2, 7, 11, 15], 9) == [0, 1]\n",
    "assert twoSum([0, 4, 3, 0], 0) == [0, 3]\n",
    "assert twoSum([3,2,4], 6) == [1,2]"
   ]
  },
  {
   "cell_type": "markdown",
   "metadata": {},
   "source": [
    "#### https://leetcode.com/problems/remove-nth-node-from-end-of-list/submissions/   \n",
    "start on: Tuesday 11/26/2019 - **12:14pm**   \n",
    "end on:   Tuesday 11/26/2019 - **12:24pm**"
   ]
  },
  {
   "cell_type": "code",
   "execution_count": 4,
   "metadata": {},
   "outputs": [],
   "source": [
    "class ListNode:\n",
    "    def __init__(self, x):\n",
    "        self.val = x\n",
    "        self.next = None\n",
    "        \n",
    "def removeNthFromEnd(self, head: ListNode, n: int) -> ListNode:\n",
    "    p1 = head\n",
    "    p2 = head\n",
    "    prev = None\n",
    "\n",
    "    for _ in range(n):\n",
    "        print(p1.val)\n",
    "        p1 = p1.next\n",
    "\n",
    "    while p1:\n",
    "        p1 = p1.next\n",
    "        prev = p2\n",
    "        p2 = p2.next\n",
    "\n",
    "    # remove first element element\n",
    "    if not prev:\n",
    "        return p2.next\n",
    "\n",
    "    prev.next = p2.next\n",
    "    return head"
   ]
  },
  {
   "cell_type": "markdown",
   "metadata": {},
   "source": [
    "### https://leetcode.com/problems/palindrome-linked-list/submissions/  \n",
    "start on: Tuesday 11/26/2019 - **12:37pm**   \n",
    "start on: Tuesday 11/26/2019 - **12:53pm**   \n",
    "\n",
    "\n",
    "space ~= `O(n/2)` = `O(n)`  \n",
    "time ~= `O(n/2) + O(n/2) + O(n/2)` ~= `O(n)`"
   ]
  },
  {
   "cell_type": "code",
   "execution_count": 6,
   "metadata": {},
   "outputs": [],
   "source": [
    "def isPalindrome(self, head: ListNode) -> bool:\n",
    "    slow = fast = head\n",
    "\n",
    "    while fast and fast.next:\n",
    "        fast = fast.next.next\n",
    "        slow = slow.next\n",
    "\n",
    "    stack = []\n",
    "    while slow:\n",
    "        stack.append(slow.val) \n",
    "        slow = slow.next\n",
    "\n",
    "    cur = head \n",
    "    for x in range(len(stack) - 1, -1 , -1):\n",
    "        if stack[x] != cur.val:\n",
    "            return False\n",
    "        cur = cur.next \n",
    "\n",
    "    return True "
   ]
  },
  {
   "cell_type": "markdown",
   "metadata": {},
   "source": [
    "### https://leetcode.com/problems/evaluate-reverse-polish-notation/\n",
    "\n",
    "start on: Tuesday 11/26/2019 - **1:35pm**   \n",
    "start on: Tuesday 11/26/2019 - **2:03pm**   \n",
    "\n",
    "space ~= `O(n)`  \n",
    "time ~= `O(1)`"
   ]
  },
  {
   "cell_type": "code",
   "execution_count": 8,
   "metadata": {},
   "outputs": [],
   "source": [
    "def evalRPN(tokens) -> int:\n",
    "    stack = []\n",
    "\n",
    "    for t in tokens:\n",
    "        if t not in [\"*\", \"/\", \"+\", \"-\"]:\n",
    "            stack.append(int(t))\n",
    "        else:\n",
    "            x = stack.pop()\n",
    "            y = stack.pop()\n",
    "\n",
    "            res = 0\n",
    "            if t == \"/\":\n",
    "                # case where we want -1 results to round to 0\n",
    "                if y * x < 0 and y % x != 0:\n",
    "                    res = y // x + 1\n",
    "                else:\n",
    "                    res = y // x \n",
    "            elif t == \"*\":\n",
    "                res = y * x\n",
    "            elif t == \"+\":\n",
    "                res = y + x\n",
    "            elif t == \"-\":\n",
    "                res = y - x\n",
    "\n",
    "            stack.append(res)\n",
    "\n",
    "    return stack[0]"
   ]
  },
  {
   "cell_type": "code",
   "execution_count": 16,
   "metadata": {},
   "outputs": [],
   "source": [
    "assert evalRPN([\"4\",\"-2\",\"/\",\"2\",\"-3\",\"-\",\"-\"]) == -7\n",
    "assert evalRPN([\"2\", \"1\", \"+\", \"3\", \"*\"]) == 9\n",
    "assert evalRPN([\"10\", \"6\", \"9\", \"3\", \"+\", \"-11\", \"*\", \"/\", \"*\", \"17\", \"+\", \"5\", \"+\"]) == 22"
   ]
  }
 ],
 "metadata": {
  "kernelspec": {
   "display_name": "Python 3",
   "language": "python",
   "name": "python3"
  },
  "language_info": {
   "codemirror_mode": {
    "name": "ipython",
    "version": 3
   },
   "file_extension": ".py",
   "mimetype": "text/x-python",
   "name": "python",
   "nbconvert_exporter": "python",
   "pygments_lexer": "ipython3",
   "version": "3.7.4"
  }
 },
 "nbformat": 4,
 "nbformat_minor": 4
}
