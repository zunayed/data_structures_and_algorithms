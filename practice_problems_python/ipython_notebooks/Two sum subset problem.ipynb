{
 "cells": [
  {
   "cell_type": "markdown",
   "metadata": {},
   "source": [
    "# Two sum subset problem\n",
    "Given an array of integers, find two numbers such that they add up to a specific target number.\n",
    "The function twoSum should return indices of the two numbers such that they add up to the target, where index1 must be less than index2. Please note that your returned answers (both index1 and index2) are not zero-based.\n",
    "\n",
    "Assume that each input would have exactly one solution.\n",
    "\n",
    "Input: \n",
    "number = [2, 7, 11, 15]  \n",
    "target = 9  \n",
    "\n",
    "Output: \n",
    "(0, 1)\n",
    "\n",
    "### Heres the naive approace\n",
    "Worst case this will result in $ o(n^2) $"
   ]
  },
  {
   "cell_type": "code",
   "execution_count": 30,
   "metadata": {
    "collapsed": false,
    "jupyter": {
     "outputs_hidden": false
    }
   },
   "outputs": [],
   "source": [
    "def two_sum(num, target):\n",
    "    for index1, number1 in enumerate(num):\n",
    "        for index2, number2 in enumerate(num[index1 + 1:]):\n",
    "            if number1 + number2 == target:\n",
    "                print (index1 + 1, index1 + index2 + 2)\n",
    "                return (index1 + 1, index1 + index2 + 2)\n"
   ]
  },
  {
   "cell_type": "code",
   "execution_count": 31,
   "metadata": {
    "collapsed": false,
    "jupyter": {
     "outputs_hidden": false
    }
   },
   "outputs": [
    {
     "name": "stdout",
     "output_type": "stream",
     "text": [
      "(1, 2)\n",
      "(1, 4)\n"
     ]
    }
   ],
   "source": [
    "assert two_sum([2, 7, 11, 15], 9) == (0, 1)\n",
    "assert two_sum([0, 4, 3, 0], 0) == (0, 3)"
   ]
  },
  {
   "cell_type": "markdown",
   "metadata": {},
   "source": [
    "### Improved solution\n",
    "\n",
    "We can improve on this solution with a hashmap aka hashtable aka associative array"
   ]
  },
  {
   "cell_type": "code",
   "execution_count": 32,
   "metadata": {
    "collapsed": false,
    "jupyter": {
     "outputs_hidden": false
    }
   },
   "outputs": [],
   "source": [
    "def two_sum_hash_table(data, target):\n",
    "    hash_table = {}\n",
    "    kkkjjj\n",
    "    for index, number in enumerate(data):\n",
    "        if number in hash_table.keys():\n",
    "            result_1 = hash_table[number] + 1\n",
    "            result_2 = index + 1\n",
    "            \n",
    "            print (result_1, result_2)\n",
    "            return (result_1, result_2)\n",
    "        else:\n",
    "            hash_table[target - number] = index"
   ]
  },
  {
   "cell_type": "code",
   "execution_count": 33,
   "metadata": {
    "collapsed": false,
    "jupyter": {
     "outputs_hidden": false
    }
   },
   "outputs": [
    {
     "name": "stdout",
     "output_type": "stream",
     "text": [
      "(1, 2)\n",
      "(1, 4)\n"
     ]
    }
   ],
   "source": [
    "assert two_sum_hash_table([2, 7, 11, 15], 9) == (0, 1)\n",
    "assert two_sum_hash_table([0, 4, 3, 0], 0) == (0, 3)"
   ]
  },
  {
   "cell_type": "code",
   "execution_count": null,
   "metadata": {
    "collapsed": false,
    "jupyter": {
     "outputs_hidden": false
    }
   },
   "outputs": [],
   "source": []
  }
 ],
 "metadata": {
  "kernelspec": {
   "display_name": "Python 3",
   "language": "python",
   "name": "python3"
  },
  "language_info": {
   "codemirror_mode": {
    "name": "ipython",
    "version": 3
   },
   "file_extension": ".py",
   "mimetype": "text/x-python",
   "name": "python",
   "nbconvert_exporter": "python",
   "pygments_lexer": "ipython3",
   "version": "3.7.4"
  }
 },
 "nbformat": 4,
 "nbformat_minor": 4
}
