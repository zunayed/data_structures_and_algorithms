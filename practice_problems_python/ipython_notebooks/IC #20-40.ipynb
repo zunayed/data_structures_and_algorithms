{
 "cells": [
  {
   "cell_type": "markdown",
   "metadata": {},
   "source": [
    "# Table Of Contents\n",
    "\n",
    "[#21 Find unique int among duplicates](#problem21)  \n",
    "[#22 Deleting a Node](#problem21)  \n",
    "[#23 Linked list cycle](#problem23)  \n",
    "[#24 Reverse a linked list](#problem24)  \n",
    "[#25 Reverse a linked list](#problem25)  \n",
    "\n"
   ]
  },
  {
   "cell_type": "markdown",
   "metadata": {},
   "source": [
    "<a id=\"problem21\"></a>\n",
    "## #21 Find unique int among duplicates\n",
    "\n",
    "Given the array of IDs, which contains many duplicate integers and one unique integer, find the unique integer.\n",
    "\n",
    "The IDs are not guaranteed to be sorted or sequential. Orders aren't always fulfilled in the order they were received, and some deliveries get cancelled before takeoff."
   ]
  },
  {
   "cell_type": "code",
   "execution_count": 3,
   "metadata": {
    "collapsed": false
   },
   "outputs": [
    {
     "name": "stdout",
     "output_type": "stream",
     "text": [
      "7\n",
      "13\n",
      "4\n",
      "4\n"
     ]
    }
   ],
   "source": [
    "from collections import defaultdict\n",
    "\n",
    "def unique_int(input_array):\n",
    "    \"\"\"\n",
    "    O(n) runtime\n",
    "    O(n) space\n",
    "    \"\"\"\n",
    "    counts = defaultdict(int)\n",
    "    \n",
    "    for item in input_array:\n",
    "        counts[item] += 1\n",
    "    \n",
    "    for item, occurence in counts.items():\n",
    "        if occurence == 1: return item\n",
    "\n",
    "test_array = [9, 9, 9, 12, 4, 4, 4, 5, 5, 6, 6, 7, 8, 8, 8, 12]\n",
    "test_array2 = [9, 9, 9, 13]\n",
    "\n",
    "print unique_int(test_array)    # 7\n",
    "print unique_int(test_array2)   # 13\n",
    "\n",
    "def find_undelivered_breakfast(delivery_ids):\n",
    "\n",
    "    unique_delivery_id = 0\n",
    "\n",
    "    for delivery_id in delivery_ids:\n",
    "        unique_delivery_id ^= delivery_id\n",
    "\n",
    "    return unique_delivery_id\n",
    "\n",
    "print find_undelivered_breakfast(test_array2)    # 4\n",
    "print find_undelivered_breakfast(test_array2)    # 4"
   ]
  },
  {
   "cell_type": "markdown",
   "metadata": {
    "collapsed": true
   },
   "source": [
    "<a id=\"problem22\"></a>\n",
    "## #22 Delete a node\n",
    "\n",
    "Delete a node from a singly linked list, given only a variable pointing to that node.\n",
    "The input could, for example, be the variable b below:\n",
    "```PYTHON\n",
    "a = Node('A')\n",
    "b = Node('B')\n",
    "c = Node('C')\n",
    "\n",
    "a.next = b\n",
    "b.next = c\n",
    "\n",
    "delete_node(b)\n",
    "```"
   ]
  },
  {
   "cell_type": "code",
   "execution_count": 6,
   "metadata": {
    "collapsed": true
   },
   "outputs": [],
   "source": [
    "class Node:\n",
    "\n",
    "    def __init__(self, initdata):\n",
    "        self.data = initdata\n",
    "        self.next = None\n",
    "\n",
    "    def getData(self):\n",
    "        return self.data\n",
    "\n",
    "    def getNext(self):\n",
    "        return self.next\n",
    "\n",
    "    def setData(self, newdata):\n",
    "        self.data = newdata\n",
    "\n",
    "    def setNext(self, newnext):\n",
    "        self.next = newnext\n",
    "        \n",
    "        \n",
    "class UnorderedList:\n",
    "    \"\"\" Linked List Implementation\"\"\"\"\n",
    "\n",
    "    def __init__(self):\n",
    "        self.head = None\n",
    "\n",
    "    def isEmpty(self):\n",
    "        return self.head is None\n",
    "\n",
    "    def add(self, item):\n",
    "        temp = Node(item)\n",
    "        temp.setNext(self.head)\n",
    "        self.head = temp\n",
    "        \n",
    "    def search(self, item):\n",
    "        found = False\n",
    "        current = self.head\n",
    "        while current is not None and not found:\n",
    "            if current.getData() == item:\n",
    "                return current\n",
    "            current = current.getNext()\n",
    "\n",
    "        return found\n",
    "\n",
    "    def remove(self, item):\n",
    "        current = self.head\n",
    "        if current.getData() == item:\n",
    "            self.head = self.head.getNext()\n",
    "\n",
    "        while current.getNext() is not None:\n",
    "            next = current.getNext()\n",
    "            if next.getData() == item:\n",
    "                current.setNext(next.getNext())\n",
    "                break\n",
    "            else:\n",
    "                current = current.getNext()\n",
    "                \n",
    "def delete_node(node_to_delete):\n",
    "    \"\"\"\n",
    "    Copy data from next node into current node to delete and point next pointer to next nodes next item. \n",
    "    \"\"\"\n",
    "    next_node = node_to_delete.next\n",
    " \n",
    "    if next_node:\n",
    "        node_to_delete.value = next_node.value\n",
    "        node_to_delete.next  = next_node.next\n",
    "    else:\n",
    "        raise Exception(\"Can't delete the last node with this method!\")"
   ]
  },
  {
   "cell_type": "markdown",
   "metadata": {
    "collapsed": true
   },
   "source": [
    "<a id=\"problem23\"></a>\n",
    "## #23 Linked list cycles\n",
    "You have a singly-linked list and want to check if it contains a cycle.\n",
    "A singly-linked list is built with Nodes, where each node has:\n",
    "\n",
    "node.next—the next node in the list.\n",
    "node.data—the data held in the node. For example, if our linked list stores people in line at the movies, node.data might be the person's name.\n",
    "A cycle occurs when a node’s next points back to a previous node in the list. The linked list is no longer linear with a beginning and end—instead, it cycles through a loop of nodes.\n",
    "\n",
    "Write a function contains_cycle() that takes the first node in a singly-linked list and returns a boolean indicating whether the list contains a cycle.\n",
    "\n",
    "For this problem, you cannot make any changes to the Node class."
   ]
  },
  {
   "cell_type": "markdown",
   "metadata": {},
   "source": [
    "#### Using a hash map \n",
    "\n",
    "allow us to figure out repeating nodes in `O(n)` but would also take `O(n)` space"
   ]
  },
  {
   "cell_type": "code",
   "execution_count": 2,
   "metadata": {
    "collapsed": true
   },
   "outputs": [],
   "source": [
    "# Solution with O(1) Space and O(n) complexity\n",
    "def check_cycle(first_node):\n",
    "\n",
    "    # start both runners at the beginning\n",
    "    slow_runner = first_node\n",
    "    fast_runner = first_node\n",
    "\n",
    "    # until we hit the end of the list\n",
    "    while fast_runner != None and fast_runner.next != None:\n",
    "        slow_runner = slow_runner.next\n",
    "        fast_runner = fast_runner.next.next\n",
    "\n",
    "        # case: fast_runner is about to \"lap\" slow_runner\n",
    "        if fast_runner == slow_runner:\n",
    "            return True \n",
    "\n",
    "    # case: fast_runner hit the end of the list\n",
    "    return False"
   ]
  },
  {
   "cell_type": "markdown",
   "metadata": {},
   "source": [
    "First, we notice that fast_runner can never skip over slow_runner. Why is this true?\n",
    "\n",
    "Suppose fast_runner had just skipped over slow_runner. fast_runner would only be 1 node ahead of slow_runner, since their speeds differ by only 1. So we would have something like this:\n",
    "```\n",
    "  [ ] -> [s] -> [f]\n",
    "```\n",
    "What would the step right before this \"skipping step\" look like? fast_runner would be 2 nodes back, and slow_runner would be 1 node back. But wait, that means they would be at the same node! So fast_runner didn't skip over slow_runner! (This is a proof by contradiction.)"
   ]
  },
  {
   "cell_type": "markdown",
   "metadata": {},
   "source": [
    "<a id=\"problem24\"></a>\n",
    "## #24 Linked list cycles\n",
    "\n",
    "Write a function for reversing a linked list.  \n",
    "Your function will have one input: the head of the list.  \n",
    "Your function should return the new head of the list.  "
   ]
  },
  {
   "cell_type": "code",
   "execution_count": 5,
   "metadata": {
    "collapsed": true
   },
   "outputs": [],
   "source": [
    "def reverse(linked_list):    \n",
    "    current = linked_list.head()\n",
    "    prev_node = None\n",
    "    next_node = None\n",
    "    \n",
    "    while (current is not None):          \n",
    "        next_node = current.next\n",
    "        current.next = prev_node\n",
    "        \n",
    "        # Move forward\n",
    "        prev_node = current\n",
    "        current = next_node\n",
    "      \n",
    "    linked_list.head = current\n",
    "    return linked_list"
   ]
  },
  {
   "cell_type": "markdown",
   "metadata": {},
   "source": [
    "<a id=\"problem25\"></a>\n",
    "## #25 kth to last node in singly linked list\n",
    "\n",
    "Write a function `kth_to_last_node()` that takes an integer k and the head_node of a singly linked list, and returns the kth to last node in the list."
   ]
  },
  {
   "cell_type": "code",
   "execution_count": 8,
   "metadata": {
    "collapsed": false
   },
   "outputs": [],
   "source": [
    "def k_element(head, k):\n",
    "    # define two pointers and use one as the runner\n",
    "    \n",
    "    p1 = head\n",
    "    p2 = head\n",
    "    \n",
    "    for _ in range(k - 1):\n",
    "        if p2.next == None:\n",
    "            raise(\"K is larger then List\")\n",
    "        \n",
    "        p2 = p2.next\n",
    "        \n",
    "    while p2.next is not None:\n",
    "        p1 = p1.next\n",
    "        p2. p2.next\n",
    "        \n",
    "    return p2"
   ]
  },
  {
   "cell_type": "markdown",
   "metadata": {},
   "source": [
    "<a id=\"problem26\"></a>\n",
    "## #26 Reverse string in place\n",
    "Write a function to reverse a string in place.\n",
    "\"In place\" means \"without creating a new string in memory.\"\n",
    "\n",
    "Use a language where strings are mutable, like Ruby. In some languages, like Python, strings are immutable, meaning they cannot be changed after they're created.\n",
    "\n",
    "If you're not comfortable coding in a language with mutable strings, reverse an array of characters instead."
   ]
  },
  {
   "cell_type": "code",
   "execution_count": 18,
   "metadata": {
    "collapsed": true
   },
   "outputs": [],
   "source": [
    "def reverse(list):\n",
    "    # O(1) space O(n) time\n",
    "    front = 0\n",
    "    back = len(list)\n",
    "    \n",
    "    for _ in range(len(list) // 2):\n",
    "        temp = list[back]\n",
    "        list[back] = list[front]\n",
    "        list[front] = temp\n",
    "        \n",
    "        front += 1\n",
    "        back -= 1\n",
    "    \n",
    "    return list"
   ]
  },
  {
   "cell_type": "markdown",
   "metadata": {
    "collapsed": true
   },
   "source": [
    "## ##27\n",
    "You're working on a secret team solving coded transmissions.\n",
    "Your team is scrambling to decipher a recent message, worried it's a plot to break into a major \n",
    "European National Cake Vault. The message has been mostly deciphered, but all the words are \n",
    "backwards! Your colleagues have handed off the last step to you.\n",
    "\n",
    "Write a function reverse_words() that takes a string message and reverses the order of the words in place ↴ .\n",
    "\n",
    "For example:\n",
    "```\n",
    "message = 'find you will pain only go you recordings security the into if'\n",
    "\n",
    "reverse_words(message)\n",
    "# returns: 'if into the security recordings you go only pain will you find'\n",
    "```\n",
    "When writing your function, assume the message contains only letters and spaces, and all words are separated by one space.\n",
    "\n",
    "Strings are immutable in Python, so we can't use Python for in-place operations on a string. We'll use Ruby instead.\n",
    "\n",
    "If you're not comfortable coding in a language with mutable strings, you could split the string into a list of characters, do the in-place word reversal on that list, and re-join that list into a string before returning it. But keep in mind that this isn't technically \"in-place,\" and the list of characters would cost O(n) additional space!"
   ]
  },
  {
   "cell_type": "code",
   "execution_count": null,
   "metadata": {
    "collapsed": true
   },
   "outputs": [],
   "source": []
  },
  {
   "cell_type": "markdown",
   "metadata": {},
   "source": [
    "## #28 matching parens\n",
    "\n",
    "I like parentheticals (a lot).\n",
    "\"Sometimes (when I nest them (my parentheticals) too much (like this (and this))) they get confusing.\"\n",
    "\n",
    "Write a function that, given a sentence like the one above, along with the position of an opening parenthesis, finds the corresponding closing parenthesis.\n",
    "\n",
    "Example: if the example string above is input with the number 10 (position of the first parenthesis), the output should be 79 (position of the last parenthesis)."
   ]
  },
  {
   "cell_type": "code",
   "execution_count": 39,
   "metadata": {
    "collapsed": false
   },
   "outputs": [],
   "source": [
    "def find_parens(string, pos):\n",
    "    open_paren = 0\n",
    "    position = pos + 1\n",
    "    for char in string[position:]:\n",
    "        if char == \"(\":\n",
    "            open_paren += 1\n",
    "        elif char == \")\":\n",
    "            if open_paren == 0:\n",
    "                return position\n",
    "            else:\n",
    "                open_paren -= 1\n",
    "        \n",
    "        position += 1\n",
    "        \n",
    "    return \"Not Found\"\n",
    "\n",
    "string = \"Sometimes (when I nest them (my parentheticals) too much (like this (and this))) they get confusing\"\n",
    "assert find_parens(string, 10) == 79"
   ]
  },
  {
   "cell_type": "markdown",
   "metadata": {},
   "source": [
    "## #29 Bracket Validator\n",
    "You're working with an intern that keeps coming to you with JavaScript code that won't run because the braces, brackets, and parentheses are off. To save you both some time, you decide to write a braces/brackets/parentheses validator.\n",
    "\n",
    "Let's say:\n",
    "\n",
    "'(', '{', '[' are called \"openers.\"\n",
    "')', '}', ']' are called \"closers.\"\n",
    "\n",
    "Write an efficient function that tells us whether or not an input string's openers and closers are properly nested.\n",
    "\n",
    "Examples:\n",
    "```\n",
    "\"{ [ ] ( ) }\" should return true\n",
    "\"{ [ ( ] ) }\" should return false\n",
    "\"{ [ }\" should return false\n",
    "```"
   ]
  },
  {
   "cell_type": "code",
   "execution_count": 54,
   "metadata": {
    "collapsed": false
   },
   "outputs": [],
   "source": [
    "class Stack:\n",
    "    def __init__(self):\n",
    "        self.items = []\n",
    "\n",
    "    def push(self, item):\n",
    "        self.items.append(item)\n",
    "        \n",
    "    def pop(self):\n",
    "        if not self.items: return None\n",
    "        return self.items.pop()\n",
    "\n",
    "    def peek(self):\n",
    "        if not self.items: return None\n",
    "\n",
    "        return self.items[len(self.items)-1]\n",
    "\n",
    "def validator(string):\n",
    "    brackets = Stack()\n",
    "    \n",
    "    for char in string:\n",
    "        if char in \"({[\":\n",
    "            brackets.push(char)\n",
    "        elif char in \")}]\":\n",
    "            last_item_index = \"({[\".index(brackets.pop())\n",
    "            current_char_index = \")}]\".index(char)\n",
    "            if last_item_index != current_char_index:\n",
    "                return False\n",
    "    \n",
    "    return True\n",
    "    \n",
    "assert validator(\"{[]()}\") == True\n",
    "assert validator(\"{[(])}\") == False\n",
    "assert validator(\"{[}\") == False\n"
   ]
  },
  {
   "cell_type": "markdown",
   "metadata": {},
   "source": [
    "## #30 Permutation palindrome\n",
    "\n",
    "Write an efficient function that checks whether any permutation of an input string is a palindrome. \n",
    "Examples:\n",
    "\n",
    "\"civic\" should return true\n",
    "\"ivicc\" should return true\n",
    "\"civil\" should return false\n",
    "\"livci\" should return false"
   ]
  },
  {
   "cell_type": "code",
   "execution_count": 11,
   "metadata": {
    "collapsed": false
   },
   "outputs": [
    {
     "name": "stdout",
     "output_type": "stream",
     "text": [
      "i 2\n",
      "c 2\n",
      "v 1\n",
      "i 2\n",
      "c 2\n",
      "v 1\n",
      "i 2\n",
      "c 1\n",
      "l 1\n",
      "v 1\n",
      "i 2\n",
      "c 1\n",
      "l 1\n",
      "v 1\n"
     ]
    }
   ],
   "source": [
    "from collections import defaultdict\n",
    "\n",
    "def is_palindrome(string):\n",
    "    letter_counts = defaultdict(int)\n",
    "    \n",
    "    for char in string:\n",
    "        letter_counts[char] += 1\n",
    "        \n",
    "    singles = 0\n",
    "    \n",
    "    for key, val in letter_counts.iteritems():\n",
    "        print key, val\n",
    "        if singles > 1:\n",
    "            return False\n",
    "        \n",
    "        if val == 1:\n",
    "            singles += 1\n",
    "    \n",
    "    return True\n",
    "    \n",
    "\n",
    "assert is_palindrome(\"civic\") == True  \n",
    "assert is_palindrome(\"civic\") == True  \n",
    "assert is_palindrome(\"civil\") == False  \n",
    "assert is_palindrome(\"livci\") == False  "
   ]
  },
  {
   "cell_type": "markdown",
   "metadata": {},
   "source": [
    "## #31 Recursive string permutations\n",
    "\n",
    "Write a recursive function for generating all permutations of an input string. Return them as an array.\n",
    "Don't worry about duplicates—assume every character is unique.\n",
    "\n",
    "Don't worry about time or space complexity—if we wanted efficiency we'd write an iterative version.\n",
    "\n",
    "Your function can have loops—it just needs to also be recursive."
   ]
  },
  {
   "cell_type": "code",
   "execution_count": null,
   "metadata": {
    "collapsed": true
   },
   "outputs": [],
   "source": [
    "def permu_string(string, start, stop):\n",
    "    if (stop - start) == 1:\n",
    "        return string[start:stop]\n",
    "    \n",
    "    \n",
    "    \n",
    "    \n",
    "\n",
    "assert permu_string('cat', 0, 2)"
   ]
  }
 ],
 "metadata": {
  "kernelspec": {
   "display_name": "Python 2",
   "language": "python",
   "name": "python2"
  },
  "language_info": {
   "codemirror_mode": {
    "name": "ipython",
    "version": 2
   },
   "file_extension": ".py",
   "mimetype": "text/x-python",
   "name": "python",
   "nbconvert_exporter": "python",
   "pygments_lexer": "ipython2",
   "version": "2.7.6"
  }
 },
 "nbformat": 4,
 "nbformat_minor": 0
}
