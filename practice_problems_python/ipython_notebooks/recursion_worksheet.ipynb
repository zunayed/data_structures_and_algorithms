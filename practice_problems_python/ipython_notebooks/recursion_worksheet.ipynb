{
 "cells": [
  {
   "cell_type": "markdown",
   "metadata": {},
   "source": [
    "## Fibonacci number\n",
    "https://leetcode.com/problems/fibonacci-number/submissions/\n",
    "\n",
    "Time ~= `O(n)`  \n",
    "Space = `O(n)`\n"
   ]
  },
  {
   "cell_type": "code",
   "execution_count": 1,
   "metadata": {},
   "outputs": [],
   "source": [
    "class Solution:\n",
    "    def fib(self, N: int) -> int:\n",
    "        memo = {}\n",
    "        memo[0] = 0\n",
    "        memo[1] = 1\n",
    "        \n",
    "        for x in range(2, N+1):\n",
    "            memo[x] = memo[x-1] + memo[x-2]\n",
    "        \n",
    "        return memo[N]"
   ]
  },
  {
   "cell_type": "markdown",
   "metadata": {},
   "source": [
    "## Subsets\n",
    "https://leetcode.com/problems/subsets/\n",
    "\n",
    "Time ~= O(n*2^n)  \n",
    "Space = O(n*2^n)"
   ]
  },
  {
   "cell_type": "code",
   "execution_count": 8,
   "metadata": {},
   "outputs": [],
   "source": [
    "def subset_helper(nums, index):\n",
    "    if index < 0:\n",
    "        return [[]]\n",
    "\n",
    "    cur_item = nums[index]\n",
    "    subsets = subset_helper(nums, index - 1)\n",
    "\n",
    "    for i in range(len(subsets)):\n",
    "        cur_subset = subsets[i]\n",
    "        subsets.append(cur_subset + [cur_item])\n",
    "\n",
    "    return subsets\n",
    "\n",
    "# subset_helper(nums, len(nums) - 1)"
   ]
  },
  {
   "cell_type": "markdown",
   "metadata": {},
   "source": [
    "## Find First and Last Position of Element in Sorted Array\n",
    "https://leetcode.com/problems/find-first-and-last-position-of-element-in-sorted-array/submissions/\n",
    "\n",
    "start on: Sunday 12/13/2019 - **2:25pm**   \n",
    "end on:   Sunday 12/13/2019 - **2:55**\n",
    "\n",
    "Time ~= `O(nlogn) + O(n) (for expanding out)`  \n",
    "Space = `O(1)`"
   ]
  },
  {
   "cell_type": "code",
   "execution_count": 9,
   "metadata": {},
   "outputs": [],
   "source": [
    "class Solution:\n",
    "    def searchRange(self, nums):\n",
    "        \n",
    "        def bin_search(nums, target, left, right):\n",
    "            if left > right:\n",
    "                return - 1\n",
    "            \n",
    "            mid = (left + right) // 2\n",
    "            print(target, left, right, f'mid {nums[mid]}')\n",
    "            \n",
    "            if nums[mid] == target:\n",
    "                return mid\n",
    "            elif target < nums[mid]:\n",
    "                return bin_search(nums, target, left, mid - 1)\n",
    "            else:\n",
    "                return bin_search(nums, target, mid + 1, right)\n",
    "        \n",
    "        # binary_search\n",
    "        index_of_target = bin_search(nums, target, 0, len(nums) - 1)\n",
    "        \n",
    "        # not found\n",
    "        if index_of_target == -1:\n",
    "            return [-1,-1]\n",
    "        \n",
    "        print(f'found item @ {index_of_target}') \n",
    "        p1, p2 = index_of_target, index_of_target\n",
    "\n",
    "        while (p1 > 0) and (nums[p1 - 1] == target):\n",
    "            p1 -= 1\n",
    "            \n",
    "        while (p2 < len(nums) - 1) and (nums[p2 + 1] == target):\n",
    "            p2 += 1\n",
    "        \n",
    "        return [p1, p2]"
   ]
  },
  {
   "cell_type": "markdown",
   "metadata": {},
   "source": [
    "## Find Minimum in Rotated Sorted Array\n",
    "\n",
    "https://leetcode.com/problems/find-minimum-in-rotated-sorted-array/\n",
    "\n",
    "Time ~= `O(nlogn)`  \n",
    "Space = `O(1)`"
   ]
  },
  {
   "cell_type": "code",
   "execution_count": 12,
   "metadata": {},
   "outputs": [],
   "source": [
    "class Solution:\n",
    "    def findMin(self, nums):        \n",
    "        left = 0\n",
    "        right = len(nums) - 1\n",
    "        \n",
    "        while left < right:\n",
    "            mid = (left + right) // 2\n",
    "            \n",
    "            if nums[mid] > nums[right]:\n",
    "                left = mid + 1\n",
    "            else:\n",
    "                right = mid\n",
    "        \n",
    "        return nums[left]"
   ]
  },
  {
   "cell_type": "markdown",
   "metadata": {},
   "source": [
    "## Search a 2D Matrix\n",
    "\n",
    "https://leetcode.com/problems/find-minimum-in-rotated-sorted-array/\n",
    "\n",
    "Time ~= `O(log(m)) + O(log(n)) = O(log(mn))`  \n",
    "Space = `O(1)`"
   ]
  },
  {
   "cell_type": "code",
   "execution_count": null,
   "metadata": {},
   "outputs": [],
   "source": [
    "lass Solution:\n",
    "    def searchMatrix(self, matrix: List[List[int]], target: int) -> bool:\n",
    "        def bin_search(array, left, right, target):\n",
    "            left = 0 \n",
    "            right = len(array) - 1\n",
    "\n",
    "            while left < right: \n",
    "                mid = (left + right) // 2\n",
    "                \n",
    "                if array[mid] == target:\n",
    "                    return True\n",
    "                elif array[mid] > target:\n",
    "                    # search left side\n",
    "                    right = mid\n",
    "                else:\n",
    "                    left = mid + 1\n",
    "            \n",
    "            return False\n",
    "            \n",
    "        left = 0\n",
    "        right = len(matrix) - 1\n",
    "        \n",
    "        while left < right:\n",
    "            mid = (left + right) // 2\n",
    "            mid_array = matrix[mid]\n",
    "\n",
    "            if (mid_array[0] <= target <= mid_array[-1]):\n",
    "                return bin_search(mid_array, 0, len(mid_array)- 1, target)\n",
    "            elif target > mid_array[-1]:\n",
    "                left = mid + 1\n",
    "            else:\n",
    "                right = mid\n",
    "            \n",
    "        return False "
   ]
  },
  {
   "cell_type": "markdown",
   "metadata": {},
   "source": [
    "## Validate binary search tree\n",
    "https://leetcode.com/problems/validate-binary-search-tree/submissions/\n",
    "\n",
    "Time ~= `O(n)`  \n",
    "Space = `O(n)`"
   ]
  },
  {
   "cell_type": "code",
   "execution_count": 15,
   "metadata": {},
   "outputs": [],
   "source": [
    "    def isValidBST(self, root):\n",
    "        def is_bst(root, min_val, max_val):\n",
    "            if not root:\n",
    "                return True\n",
    "            \n",
    "            if (root.val >= max_val) or (root.val <= min_val):\n",
    "                return False\n",
    "\n",
    "            left_is_bst = is_bst(root.left, min_val, root.val)\n",
    "            right_is_bst = is_bst(root.right, root.val, max_val)\n",
    "\n",
    "            return left_is_bst and right_is_bst\n",
    "                \n",
    "        \n",
    "        min_val = float('-inf')\n",
    "        max_val = float('inf')\n",
    "        \n",
    "        return is_bst(root, min_val, max_val)\n",
    "        "
   ]
  },
  {
   "cell_type": "markdown",
   "metadata": {},
   "source": [
    "## Insert into a Binary Search Tree\n",
    "https://leetcode.com/problems/insert-into-a-binary-search-tree/\n",
    "\n",
    "Time ~= `O(log(n))`  \n",
    "Space = `O(1)`"
   ]
  },
  {
   "cell_type": "code",
   "execution_count": 19,
   "metadata": {},
   "outputs": [],
   "source": [
    "class TreeNode:\n",
    "    def __init__(self, x):\n",
    "        self.val = x\n",
    "        self.left = None\n",
    "        self.right = None\n",
    "        \n",
    "class Solution:\n",
    "    def insert(self, cur, val):\n",
    "        if not cur:\n",
    "            return TreeNode(val)\n",
    "        \n",
    "        if cur.val > val:\n",
    "            cur.left = self.insert(cur.left, val)\n",
    "        else:\n",
    "            cur.right = self.insert(cur.right, val)\n",
    "\n",
    "        return cur\n",
    "        \n",
    "        \n",
    "    def insertIntoBST(self, root: TreeNode, val: int) -> TreeNode:\n",
    "        return self.insert(root, val)\n",
    "        "
   ]
  },
  {
   "cell_type": "markdown",
   "metadata": {},
   "source": [
    "## Same Tree\n",
    "https://leetcode.com/problems/same-tree/\n",
    "\n",
    "Time ~= `O(log(n))`   \n",
    "Space = `O(1)`"
   ]
  },
  {
   "cell_type": "code",
   "execution_count": 20,
   "metadata": {},
   "outputs": [],
   "source": [
    "class Solution:\n",
    "    def isSameTree(self, p: TreeNode, q: TreeNode) -> bool:\n",
    "        if not p and not q:\n",
    "            return True\n",
    "        \n",
    "        if not p or not q:\n",
    "            return False\n",
    "        \n",
    "        if p.val != q.val:\n",
    "            return False\n",
    "        \n",
    "        left_ok = self.isSameTree(p.right, q.right)\n",
    "        right_ok = self.isSameTree(p.left, q.left)\n",
    "        \n",
    "        return left_ok and right_ok"
   ]
  },
  {
   "cell_type": "markdown",
   "metadata": {},
   "source": [
    "## Sum of left leafs\n",
    "https://leetcode.com/problems/sum-of-left-leaves/\n",
    "    \n",
    "Time = `O(n)`    \n",
    "Space = `O(1)`"
   ]
  },
  {
   "cell_type": "code",
   "execution_count": 23,
   "metadata": {},
   "outputs": [],
   "source": [
    "class Solution:\n",
    "    def sumOfLeftLeaves(self, root: TreeNode) -> int:\n",
    "        def dfs(root, total, direction):\n",
    "            if not root:\n",
    "                return\n",
    "            \n",
    "            if (not root.left) and (not root.right) and direction == 'left':\n",
    "                total[0] += root.val\n",
    "            \n",
    "            dfs(root.left, total, 'left')\n",
    "            dfs(root.right, total, 'right')\n",
    "            \n",
    "        total = [0]\n",
    "        dfs(root, total, 'right')\n",
    "\n",
    "        return total[0]\n"
   ]
  },
  {
   "cell_type": "markdown",
   "metadata": {},
   "source": [
    "## Max Path Sum in Binary Tree\n",
    "\n",
    "https://leetcode.com/problems/binary-tree-maximum-path-sum/solution/\n",
    "    \n",
    "Time = `O(n)`   \n",
    "Space = `O(1)`"
   ]
  },
  {
   "cell_type": "code",
   "execution_count": null,
   "metadata": {},
   "outputs": [],
   "source": [
    "import sys\n",
    "\n",
    "class Solution:\n",
    "    def maxSum(self, root, g_max):\n",
    "        if not root:\n",
    "            return 0\n",
    "        \n",
    "        left = self.maxSum(root.left, g_max)\n",
    "        right = self.maxSum(root.right, g_max)\n",
    "        \n",
    "        case1 = root.val\n",
    "        case2 = left + root.val\n",
    "        case3 = root.val + right\n",
    "        \n",
    "        # \n",
    "        case4 = root.val + left + right\n",
    "        \n",
    "        g_max[0] = max(g_max[0], case1, case2, case3, case4)\n",
    "        \n",
    "        return max(case1, case2, case3)\n",
    "    \n",
    "    def maxPathSum(self, root: TreeNode) -> int:\n",
    "        g_max = [-sys.maxsize] # using array to pass by ref\n",
    "        val = self.maxSum(root, g_max)\n",
    "        return max(g_max[0], val)\n",
    "        "
   ]
  }
 ],
 "metadata": {
  "kernelspec": {
   "display_name": "Python 3",
   "language": "python",
   "name": "python3"
  },
  "language_info": {
   "codemirror_mode": {
    "name": "ipython",
    "version": 3
   },
   "file_extension": ".py",
   "mimetype": "text/x-python",
   "name": "python",
   "nbconvert_exporter": "python",
   "pygments_lexer": "ipython3",
   "version": "3.7.4"
  }
 },
 "nbformat": 4,
 "nbformat_minor": 4
}
