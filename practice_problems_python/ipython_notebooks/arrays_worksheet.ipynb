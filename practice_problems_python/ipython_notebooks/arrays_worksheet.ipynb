{
 "cells": [
  {
   "cell_type": "markdown",
   "metadata": {},
   "source": [
    "## Remove duplicates from sorted array\n",
    "#### https://leetcode.com/problems/remove-duplicates-from-sorted-array/\n",
    "\n",
    "start on: Wednesday 11/27/2019 - **2:15pm**   \n",
    "end on:   Tuesday 11/27/2019 - **2:50pm**\n",
    "\n",
    "Time ~= `O(n)`  \n",
    "Space = `O(1)`"
   ]
  },
  {
   "cell_type": "code",
   "execution_count": 1,
   "metadata": {},
   "outputs": [],
   "source": [
    "class Solution:\n",
    "    def removeDuplicates(self, nums):\n",
    "        if len(nums) == 1:\n",
    "            return 1\n",
    "        \n",
    "        if len(nums) == 2:\n",
    "            if nums[0] == nums[1]:\n",
    "                return 1 \n",
    "            \n",
    "            return 2\n",
    "            \n",
    "        p1 = 0\n",
    "        p2 = 1\n",
    "        \n",
    "        while p2 < len(nums):\n",
    "            while p2 < len(nums) - 1 and nums[p1] == nums[p2]:\n",
    "                p2 += 1\n",
    "            \n",
    "            if nums[p1] != nums[p2]:\n",
    "                p1 += 1\n",
    "                # print('swap', p1, p2)\n",
    "                nums[p1], nums[p2] = nums[p2], nums[p1]\n",
    "                p2 += 1\n",
    "            else:\n",
    "                p2 += 1\n",
    "            \n",
    "        # return + 1 since  this is the index value. Count would be +1\n",
    "        return p1 + 1\n",
    "    \n",
    "    \n",
    "\n",
    "# Better solution found online\n",
    "\n",
    "# def removeDuplicates(self, nums):\n",
    "#     if not nums:\n",
    "#         return 0\n",
    "\n",
    "#     p1, p2 = 0, 0\n",
    "\n",
    "#     while p2 < len(nums):\n",
    "#         if nums[p1] == nums[p2]:\n",
    "#             p2 += 1\n",
    "#         elif nums[p1] != nums[p2]:\n",
    "#             p1 += 1\n",
    "#             nums[p1] = nums[p2]\n",
    "#             p2 += 1\n",
    "\n",
    "#     return p1 + 1   \n"
   ]
  },
  {
   "cell_type": "markdown",
   "metadata": {},
   "source": [
    "## Two sum\n",
    "### https://leetcode.com/problems/two-sum/solution/   \n",
    "\n",
    "start on: Tuesday 11/26/2019 - 12:00pm  \n",
    "end on: Tuesday 11/26/2019 - 12:12pm   \n",
    "\n",
    "Time ~= `O(n)` + `O(n)` ~= `O(n)`  \n",
    "Space = `O(n)`"
   ]
  },
  {
   "cell_type": "code",
   "execution_count": 9,
   "metadata": {},
   "outputs": [],
   "source": [
    "class Solution:\n",
    "    def twoSum(self, nums, target):\n",
    "        complement = {}\n",
    "        \n",
    "        for i, x in enumerate(nums):\n",
    "            complement[x] = i\n",
    "\n",
    "        for i, x in enumerate(nums):\n",
    "            pair_to_look_for = target - x\n",
    "        \n",
    "            if pair_to_look_for in complement:\n",
    "                # print(f'found a pair {i}, {complement[pair_to_look_for]}')\n",
    "                if complement[pair_to_look_for] != i:\n",
    "                    return [i, complement[pair_to_look_for]]\n",
    "\n",
    "        return []"
   ]
  },
  {
   "cell_type": "markdown",
   "metadata": {},
   "source": [
    "## Longest Mountain in Array\n",
    "\n",
    "Time ~= `O(n)` + `O(n)` ~= `O(n)`  \n",
    "Space = `O(1)`"
   ]
  },
  {
   "cell_type": "code",
   "execution_count": 1,
   "metadata": {},
   "outputs": [],
   "source": [
    "class Solution:\n",
    "    def longestMountain(self, A):\n",
    "        largest_seen = 0\n",
    "        final_left = final_right = 0\n",
    "        \n",
    "        for x in range(1, len(A) - 1):\n",
    "            a = A[x-1]\n",
    "            b = A[x]\n",
    "            c = A[x+1]\n",
    "            \n",
    "            if not (a < b > c):\n",
    "                continue\n",
    "                \n",
    "            final_left = x-1 # 1\n",
    "            final_right = x+1 # 4\n",
    "\n",
    "            # left\n",
    "            for i in range(x - 1, 0, -1):\n",
    "                if not (A[i] > A[i-1]):\n",
    "                    break \n",
    "\n",
    "                final_left -= 1\n",
    "\n",
    "            # right \n",
    "            for i in range(x + 1, len(A) - 1):\n",
    "                if not (A[i] > A[i + 1]):\n",
    "                    break \n",
    "\n",
    "                final_right += 1\n",
    "\n",
    "            largest_seen = max(largest_seen, (final_right - final_left) + 1)\n",
    "            \n",
    "        return largest_seen"
   ]
  },
  {
   "cell_type": "markdown",
   "metadata": {},
   "source": [
    "## Subarray Product Less Than K\n",
    "\n",
    "https://leetcode.com/problems/subarray-product-less-than-k/\n",
    "\n",
    "Time ~= `O(n)` + `O(n)` ~= `O(n)`  \n",
    "Space = `O(1)`"
   ]
  },
  {
   "cell_type": "code",
   "execution_count": null,
   "metadata": {},
   "outputs": [],
   "source": [
    "class Solution:\n",
    "    def numSubarrayProductLessThanK(self, nums: List[int], k: int) -> int:\n",
    "        total_product = 1\n",
    "        output = 0\n",
    "        start = -1\n",
    "\n",
    "        for i in range(len(nums)):\n",
    "            total_product = total_product * nums[i]\n",
    "            \n",
    "            while total_product >= k:\n",
    "                start += 1\n",
    "                total_product = total_product / nums[start]\n",
    "                \n",
    "            output += i - start\n",
    "            \n",
    "        return output    \n",
    "             "
   ]
  }
 ],
 "metadata": {
  "kernelspec": {
   "display_name": "Python 3",
   "language": "python",
   "name": "python3"
  },
  "language_info": {
   "codemirror_mode": {
    "name": "ipython",
    "version": 3
   },
   "file_extension": ".py",
   "mimetype": "text/x-python",
   "name": "python",
   "nbconvert_exporter": "python",
   "pygments_lexer": "ipython3",
   "version": "3.7.4"
  }
 },
 "nbformat": 4,
 "nbformat_minor": 4
}
