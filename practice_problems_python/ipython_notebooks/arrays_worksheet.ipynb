{
 "cells": [
  {
   "cell_type": "markdown",
   "metadata": {},
   "source": [
    "## Remove duplicates from sorted array\n",
    "#### https://leetcode.com/problems/remove-duplicates-from-sorted-array/\n",
    "\n",
    "start on: Wednesday 11/27/2019 - **2:15pm**   \n",
    "end on:   Tuesday 11/27/2019 - **2:50pm**\n",
    "\n",
    "Time ~= `O(n)`  \n",
    "Space = `O(1)`"
   ]
  },
  {
   "cell_type": "code",
   "execution_count": 12,
   "metadata": {},
   "outputs": [],
   "source": [
    "class Solution:\n",
    "    def removeDuplicates(self, nums):\n",
    "        if len(nums) == 1:\n",
    "            return 1\n",
    "        \n",
    "        if len(nums) == 2:\n",
    "            if nums[0] == nums[1]:\n",
    "                return 1 \n",
    "            \n",
    "            return 2\n",
    "            \n",
    "        p1 = 0\n",
    "        p2 = 1\n",
    "        \n",
    "        while p2 < len(nums):\n",
    "            while p2 < len(nums) - 1 and nums[p1] == nums[p2]:\n",
    "                p2 += 1\n",
    "            \n",
    "            if nums[p1] != nums[p2]:\n",
    "                p1 += 1\n",
    "                # print('swap', p1, p2)\n",
    "                nums[p1], nums[p2] = nums[p2], nums[p1]\n",
    "                p2 += 1\n",
    "            else:\n",
    "                p2 += 1\n",
    "            \n",
    "        # return + 1 since  this is the index value. Count would be +1\n",
    "        return p1 + 1\n",
    "    \n",
    "    \n",
    "\n",
    "# Better solution found online\n",
    "\n",
    "# def removeDuplicates(self, nums):\n",
    "#     if not nums:\n",
    "#         return 0\n",
    "\n",
    "#     p1, p2 = 0, 0\n",
    "\n",
    "#     while p2 < len(nums):\n",
    "#         if nums[p1] == nums[p2]:\n",
    "#             p2 += 1\n",
    "#         elif nums[p1] != nums[p2]:\n",
    "#             p1 += 1\n",
    "#             nums[p1] = nums[p2]\n",
    "#             p2 += 1\n",
    "\n",
    "#     return p1 + 1   \n"
   ]
  },
  {
   "cell_type": "markdown",
   "metadata": {},
   "source": [
    "## Two sum\n",
    "### https://leetcode.com/problems/two-sum/solution/   \n",
    "\n",
    "start on: Tuesday 11/26/2019 - 12:00pm  \n",
    "end on: Tuesday 11/26/2019 - 12:12pm   \n",
    "\n",
    "Time ~= `O(n)` + `O(n)` ~= `O(n)`  \n",
    "Space = `O(n)`"
   ]
  },
  {
   "cell_type": "code",
   "execution_count": 13,
   "metadata": {},
   "outputs": [],
   "source": [
    "class Solution:\n",
    "    def twoSum(self, nums, target):\n",
    "        complement = {}\n",
    "        \n",
    "        for i, x in enumerate(nums):\n",
    "            complement[x] = i\n",
    "\n",
    "        for i, x in enumerate(nums):\n",
    "            pair_to_look_for = target - x\n",
    "        \n",
    "            if pair_to_look_for in complement:\n",
    "                # print(f'found a pair {i}, {complement[pair_to_look_for]}')\n",
    "                if complement[pair_to_look_for] != i:\n",
    "                    return [i, complement[pair_to_look_for]]\n",
    "\n",
    "        return []"
   ]
  },
  {
   "cell_type": "markdown",
   "metadata": {},
   "source": [
    "## Longest Mountain in Array\n",
    "\n",
    "Time ~= `O(n)` + `O(n)` ~= `O(n)`  \n",
    "Space = `O(1)`"
   ]
  },
  {
   "cell_type": "code",
   "execution_count": 14,
   "metadata": {},
   "outputs": [],
   "source": [
    "class Solution:\n",
    "    def longestMountain(self, A):\n",
    "        largest_seen = 0\n",
    "        final_left = final_right = 0\n",
    "        \n",
    "        for x in range(1, len(A) - 1):\n",
    "            a = A[x-1]\n",
    "            b = A[x]\n",
    "            c = A[x+1]\n",
    "            \n",
    "            if not (a < b > c):\n",
    "                continue\n",
    "                \n",
    "            final_left = x-1 # 1\n",
    "            final_right = x+1 # 4\n",
    "\n",
    "            # left\n",
    "            for i in range(x - 1, 0, -1):\n",
    "                if not (A[i] > A[i-1]):\n",
    "                    break \n",
    "\n",
    "                final_left -= 1\n",
    "\n",
    "            # right \n",
    "            for i in range(x + 1, len(A) - 1):\n",
    "                if not (A[i] > A[i + 1]):\n",
    "                    break \n",
    "\n",
    "                final_right += 1\n",
    "\n",
    "            largest_seen = max(largest_seen, (final_right - final_left) + 1)\n",
    "            \n",
    "        return largest_seen"
   ]
  },
  {
   "cell_type": "markdown",
   "metadata": {},
   "source": [
    "## Lemonadge change\n",
    "\n",
    "https://leetcode.com/problems/lemonade-change/solution/\n",
    "    \n",
    "Time ~= `O(n) \n",
    "Space = `O(n)`"
   ]
  },
  {
   "cell_type": "code",
   "execution_count": 15,
   "metadata": {},
   "outputs": [],
   "source": [
    "class Solution:\n",
    "    def lemonadeChange(self, bills):\n",
    "        five_stack = []\n",
    "        ten_stack = []\n",
    "        twenty_stack = []\n",
    "        \n",
    "        for x in bills:\n",
    "            change_needed = x - 5\n",
    "            \n",
    "            while change_needed >= 20 and twenty_stack:\n",
    "                change_needed -= twenty_stack.pop()\n",
    "                \n",
    "            while change_needed >= 10 and ten_stack:\n",
    "                change_needed -= ten_stack.pop()\n",
    "                \n",
    "            while change_needed >= 5 and five_stack:\n",
    "                change_needed -= five_stack.pop()\n",
    "            \n",
    "            if change_needed > 0:\n",
    "                return False\n",
    "            \n",
    "            if x == 5:\n",
    "                five_stack.append(5)\n",
    "            elif x == 10:\n",
    "                ten_stack.append(10)\n",
    "            elif x == 20:\n",
    "                twenty_stack.append(20)\n",
    "        \n",
    "        return True"
   ]
  },
  {
   "cell_type": "markdown",
   "metadata": {},
   "source": [
    "## Best Time to Buy and Sell Stock II\n",
    "https://leetcode.com/problems/best-time-to-buy-and-sell-stock-ii/\n",
    "\n",
    "Time ~= `O(n)`  \n",
    "space ~= `O(1)`"
   ]
  },
  {
   "cell_type": "code",
   "execution_count": 16,
   "metadata": {},
   "outputs": [],
   "source": [
    "class Solution:\n",
    "    def maxProfit(self, prices):\n",
    "        if not prices:\n",
    "            return 0\n",
    "        \n",
    "        max_profit = 0\n",
    "        smallest_seen = prices[0]\n",
    "        \n",
    "        for x in range(1, len(prices)):\n",
    "            if prices[x] > prices[x-1]:\n",
    "                max_profit += prices[x] - prices[x-1]\n",
    "        \n",
    "        return max_profit"
   ]
  },
  {
   "cell_type": "markdown",
   "metadata": {},
   "source": [
    "## Subarray Product Less Than K\n",
    "\n",
    "https://leetcode.com/problems/subarray-product-less-than-k/\n",
    "\n",
    "Time ~= `O(n)` + `O(n)` ~= `O(n)`  \n",
    "Space = `O(1)`"
   ]
  },
  {
   "cell_type": "code",
   "execution_count": 19,
   "metadata": {},
   "outputs": [],
   "source": [
    "class Solution:\n",
    "    def numSubarrayProductLessThanK(self, nums):\n",
    "        total_product = 1\n",
    "        output = 0\n",
    "        start = -1\n",
    "\n",
    "        for i in range(len(nums)):\n",
    "            total_product = total_product * nums[i]\n",
    "            \n",
    "            while total_product >= k:\n",
    "                start += 1\n",
    "                total_product = total_product / nums[start]\n",
    "                \n",
    "            output += i - start\n",
    "            \n",
    "        return output    \n",
    "             "
   ]
  },
  {
   "cell_type": "markdown",
   "metadata": {},
   "source": [
    "## Longest Substring Without Repeating Characters\n",
    "\n",
    "https://leetcode.com/problems/longest-substring-without-repeating-characters/submissions/\n",
    "    \n",
    "start on: Tuesday 12/10/2019 - **1:00pm**   \n",
    "end on:   Tuesday 12/10/2019 - **1:25pm**\n",
    "        \n",
    "Time ~= `O(n)` + `O(n)` ~= `O(n)`  \n",
    "Space = `O(1)`"
   ]
  },
  {
   "cell_type": "code",
   "execution_count": 18,
   "metadata": {},
   "outputs": [],
   "source": [
    "class Solution:\n",
    "    def lengthOfLongestSubstring(self, s):\n",
    "        if not s:\n",
    "            return 0 \n",
    "        \n",
    "        longest_seen = 1\n",
    "        start = -1\n",
    "        \n",
    "        letter_set = set() \n",
    "        \n",
    "        for i in range(len(s)):\n",
    "            \n",
    "            while s[i] in letter_set:\n",
    "                start += 1\n",
    "                letter_set.remove(s[start])\n",
    "            \n",
    "            letter_set.add(s[i])\n",
    "            longest_seen = max(longest_seen, (i - start))\n",
    "        \n",
    "        return longest_seen "
   ]
  }
 ],
 "metadata": {
  "kernelspec": {
   "display_name": "Python 3",
   "language": "python",
   "name": "python3"
  },
  "language_info": {
   "codemirror_mode": {
    "name": "ipython",
    "version": 3
   },
   "file_extension": ".py",
   "mimetype": "text/x-python",
   "name": "python",
   "nbconvert_exporter": "python",
   "pygments_lexer": "ipython3",
   "version": "3.7.4"
  }
 },
 "nbformat": 4,
 "nbformat_minor": 4
}
