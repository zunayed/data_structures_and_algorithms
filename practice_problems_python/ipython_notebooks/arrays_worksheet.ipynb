{
 "cells": [
  {
   "cell_type": "markdown",
   "metadata": {},
   "source": [
    "#### https://leetcode.com/problems/remove-duplicates-from-sorted-array/\n",
    "\n",
    "start on: Wednesday 11/27/2019 - **2:15pm**   \n",
    "end on:   Tuesday 11/27/2019 - **2:50pm**\n",
    "\n",
    "Time ~= `O(n)`  \n",
    "Space = `O(1)`"
   ]
  },
  {
   "cell_type": "code",
   "execution_count": 2,
   "metadata": {},
   "outputs": [],
   "source": [
    "class Solution:\n",
    "    def removeDuplicates(self, nums):\n",
    "        if len(nums) == 1:\n",
    "            return 1\n",
    "        \n",
    "        if len(nums) == 2:\n",
    "            if nums[0] == nums[1]:\n",
    "                return 1 \n",
    "            \n",
    "            return 2\n",
    "            \n",
    "        p1 = 0\n",
    "        p2 = 1\n",
    "        \n",
    "        while p2 < len(nums):\n",
    "            while p2 < len(nums) - 1 and nums[p1] == nums[p2]:\n",
    "                p2 += 1\n",
    "            \n",
    "            if nums[p1] != nums[p2]:\n",
    "                p1 += 1\n",
    "                # print('swap', p1, p2)\n",
    "                nums[p1], nums[p2] = nums[p2], nums[p1]\n",
    "                p2 += 1\n",
    "            else:\n",
    "                p2 += 1\n",
    "            \n",
    "        # return + 1 since  this is the index value. Count would be +1\n",
    "        return p1 + 1"
   ]
  },
  {
   "cell_type": "code",
   "execution_count": null,
   "metadata": {},
   "outputs": [],
   "source": []
  }
 ],
 "metadata": {
  "kernelspec": {
   "display_name": "Python 3",
   "language": "python",
   "name": "python3"
  },
  "language_info": {
   "codemirror_mode": {
    "name": "ipython",
    "version": 3
   },
   "file_extension": ".py",
   "mimetype": "text/x-python",
   "name": "python",
   "nbconvert_exporter": "python",
   "pygments_lexer": "ipython3",
   "version": "3.7.4"
  }
 },
 "nbformat": 4,
 "nbformat_minor": 4
}
